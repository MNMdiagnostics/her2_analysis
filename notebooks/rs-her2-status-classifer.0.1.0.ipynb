{
 "cells": [
  {
   "cell_type": "markdown",
   "metadata": {},
   "source": [
    "# HER2 status classifier"
   ]
  },
  {
   "cell_type": "markdown",
   "metadata": {},
   "source": [
    "- Ask what to do with samples with two the same ICGC_IDs\n",
    "- Ask about ERBB2 minus ploidy "
   ]
  },
  {
   "cell_type": "code",
   "execution_count": 1,
   "metadata": {},
   "outputs": [],
   "source": [
    "%load_ext autoreload\n",
    "%autoreload 2\n",
    "\n",
    "from utils.cv_helpers import best_params_cv, show_cv_results\n",
    "\n",
    "import pandas as pd\n",
    "import numpy as np\n",
    "\n",
    "import seaborn as sns\n",
    "import matplotlib.pyplot as plt\n",
    "import matplotlib\n",
    "from plotnine import *\n",
    "from yellowbrick.model_selection import learning_curve, validation_curve\n",
    "\n",
    "from sklearn.manifold import MDS\n",
    "from sklearn.model_selection import train_test_split, RepeatedStratifiedKFold, GridSearchCV\n",
    "from sklearn.ensemble import RandomForestClassifier\n",
    "from sklearn.linear_model import LogisticRegression\n",
    "from sklearn.tree import DecisionTreeClassifier, plot_tree\n",
    "from sklearn.preprocessing import MinMaxScaler\n",
    "from sklearn.pipeline import Pipeline\n",
    "from sklearn.metrics import make_scorer, precision_score, recall_score, cohen_kappa_score, f1_score, plot_confusion_matrix\n",
    "\n",
    "SEED = 0\n",
    "CV_SCHEME = RepeatedStratifiedKFold(n_splits=5, n_repeats=10, random_state=SEED)\n",
    "PLOT_SIZE = (1000, 800)\n",
    "\n",
    "pd.set_option('display.max_columns', 10)\n",
    "pd.set_option('display.max_rows', 20)"
   ]
  },
  {
   "cell_type": "markdown",
   "metadata": {},
   "source": [
    "- add st. dev to summary table\n",
    "- add DecisionTree"
   ]
  },
  {
   "cell_type": "code",
   "execution_count": 2,
   "metadata": {},
   "outputs": [],
   "source": [
    "her2_status_path = '../../data/external/HER2status_Sanger.txt'\n",
    "her2_to_icgc_path = '../../data/external/sanger_IDs.csv'"
   ]
  },
  {
   "cell_type": "code",
   "execution_count": 3,
   "metadata": {},
   "outputs": [
    {
     "data": {
      "text/plain": [
       "(566, 2)"
      ]
     },
     "execution_count": 3,
     "metadata": {},
     "output_type": "execute_result"
    }
   ],
   "source": [
    "her2_to_icgc = pd.read_csv(her2_to_icgc_path)\n",
    "her2_to_icgc.columns = ['Sample_ID', 'ICGC_ID']\n",
    "her2_to_icgc.shape"
   ]
  },
  {
   "cell_type": "code",
   "execution_count": 4,
   "metadata": {},
   "outputs": [
    {
     "data": {
      "text/plain": [
       "(555, 5)"
      ]
     },
     "execution_count": 4,
     "metadata": {},
     "output_type": "execute_result"
    }
   ],
   "source": [
    "her2_status = pd.read_csv(her2_status_path, sep='\\t')\n",
    "her2_status['ploidy(n)'] = her2_status['ploidy(n)'].str.replace(',', '.').astype(float)\n",
    "her2_status.columns = ['Sample_ID', 'HER2_status', 'CN_ERBB2', 'CN_CEP17', 'Ploidy']\n",
    "her2_status.shape"
   ]
  },
  {
   "cell_type": "code",
   "execution_count": 5,
   "metadata": {},
   "outputs": [],
   "source": [
    "her2_status = pd.merge(her2_status, her2_to_icgc, on='Sample_ID', how='left')"
   ]
  },
  {
   "cell_type": "markdown",
   "metadata": {},
   "source": [
    "There are two samples, which have different sample ID for Sanger and the same sample ID for ICGC. For now i removed first sample. "
   ]
  },
  {
   "cell_type": "code",
   "execution_count": 6,
   "metadata": {},
   "outputs": [
    {
     "data": {
      "text/html": [
       "<div>\n",
       "<style scoped>\n",
       "    .dataframe tbody tr th:only-of-type {\n",
       "        vertical-align: middle;\n",
       "    }\n",
       "\n",
       "    .dataframe tbody tr th {\n",
       "        vertical-align: top;\n",
       "    }\n",
       "\n",
       "    .dataframe thead th {\n",
       "        text-align: right;\n",
       "    }\n",
       "</style>\n",
       "<table border=\"1\" class=\"dataframe\">\n",
       "  <thead>\n",
       "    <tr style=\"text-align: right;\">\n",
       "      <th></th>\n",
       "      <th>Sample_ID</th>\n",
       "      <th>HER2_status</th>\n",
       "      <th>CN_ERBB2</th>\n",
       "      <th>CN_CEP17</th>\n",
       "      <th>Ploidy</th>\n",
       "      <th>ICGC_ID</th>\n",
       "    </tr>\n",
       "  </thead>\n",
       "  <tbody>\n",
       "    <tr>\n",
       "      <th>48</th>\n",
       "      <td>PD11395a_2</td>\n",
       "      <td>0</td>\n",
       "      <td>3</td>\n",
       "      <td>3</td>\n",
       "      <td>2.72</td>\n",
       "      <td>DO225152</td>\n",
       "    </tr>\n",
       "    <tr>\n",
       "      <th>52</th>\n",
       "      <td>PD11399a</td>\n",
       "      <td>0</td>\n",
       "      <td>2</td>\n",
       "      <td>2</td>\n",
       "      <td>2.14</td>\n",
       "      <td>DO225152</td>\n",
       "    </tr>\n",
       "  </tbody>\n",
       "</table>\n",
       "</div>"
      ],
      "text/plain": [
       "     Sample_ID  HER2_status  CN_ERBB2  CN_CEP17  Ploidy   ICGC_ID\n",
       "48  PD11395a_2            0         3         3    2.72  DO225152\n",
       "52    PD11399a            0         2         2    2.14  DO225152"
      ]
     },
     "execution_count": 6,
     "metadata": {},
     "output_type": "execute_result"
    }
   ],
   "source": [
    "her2_status.ICGC_ID.value_counts()\n",
    "her2_status[her2_status['ICGC_ID'] == 'DO225152']"
   ]
  },
  {
   "cell_type": "code",
   "execution_count": 7,
   "metadata": {},
   "outputs": [
    {
     "data": {
      "text/html": [
       "<div>\n",
       "<style scoped>\n",
       "    .dataframe tbody tr th:only-of-type {\n",
       "        vertical-align: middle;\n",
       "    }\n",
       "\n",
       "    .dataframe tbody tr th {\n",
       "        vertical-align: top;\n",
       "    }\n",
       "\n",
       "    .dataframe thead th {\n",
       "        text-align: right;\n",
       "    }\n",
       "</style>\n",
       "<table border=\"1\" class=\"dataframe\">\n",
       "  <thead>\n",
       "    <tr style=\"text-align: right;\">\n",
       "      <th></th>\n",
       "      <th>HER2_status</th>\n",
       "      <th>CN_ERBB2</th>\n",
       "      <th>CN_CEP17</th>\n",
       "      <th>Ploidy</th>\n",
       "    </tr>\n",
       "    <tr>\n",
       "      <th>ICGC_ID</th>\n",
       "      <th></th>\n",
       "      <th></th>\n",
       "      <th></th>\n",
       "      <th></th>\n",
       "    </tr>\n",
       "  </thead>\n",
       "  <tbody>\n",
       "    <tr>\n",
       "      <th>DO225103</th>\n",
       "      <td>0</td>\n",
       "      <td>3</td>\n",
       "      <td>5</td>\n",
       "      <td>3.31</td>\n",
       "    </tr>\n",
       "    <tr>\n",
       "      <th>DO225104</th>\n",
       "      <td>0</td>\n",
       "      <td>3</td>\n",
       "      <td>3</td>\n",
       "      <td>3.35</td>\n",
       "    </tr>\n",
       "    <tr>\n",
       "      <th>DO225105</th>\n",
       "      <td>0</td>\n",
       "      <td>2</td>\n",
       "      <td>2</td>\n",
       "      <td>2.07</td>\n",
       "    </tr>\n",
       "    <tr>\n",
       "      <th>DO225106</th>\n",
       "      <td>0</td>\n",
       "      <td>1</td>\n",
       "      <td>1</td>\n",
       "      <td>1.75</td>\n",
       "    </tr>\n",
       "    <tr>\n",
       "      <th>DO225107</th>\n",
       "      <td>0</td>\n",
       "      <td>2</td>\n",
       "      <td>1</td>\n",
       "      <td>3.38</td>\n",
       "    </tr>\n",
       "  </tbody>\n",
       "</table>\n",
       "</div>"
      ],
      "text/plain": [
       "         HER2_status  CN_ERBB2  CN_CEP17  Ploidy\n",
       "ICGC_ID                                         \n",
       "DO225103           0         3         5    3.31\n",
       "DO225104           0         3         3    3.35\n",
       "DO225105           0         2         2    2.07\n",
       "DO225106           0         1         1    1.75\n",
       "DO225107           0         2         1    3.38"
      ]
     },
     "execution_count": 7,
     "metadata": {},
     "output_type": "execute_result"
    }
   ],
   "source": [
    "her2_status = her2_status[her2_status['Sample_ID'] != 'PD11395a_2']\n",
    "her2_status = her2_status.drop(['Sample_ID'], axis=1)\n",
    "her2_status = her2_status.set_index('ICGC_ID')\n",
    "her2_status['HER2_status'] = her2_status['HER2_status'].apply(str)\n",
    "her2_status.head()"
   ]
  },
  {
   "cell_type": "markdown",
   "metadata": {},
   "source": [
    "## Create features specified: \n",
    "- ERBB2_CN\n",
    "- ERBB2_CN-ploidy\n",
    "- ERBB2_CN/CEP17_CN ratio"
   ]
  },
  {
   "cell_type": "code",
   "execution_count": 8,
   "metadata": {},
   "outputs": [
    {
     "data": {
      "text/html": [
       "<div>\n",
       "<style scoped>\n",
       "    .dataframe tbody tr th:only-of-type {\n",
       "        vertical-align: middle;\n",
       "    }\n",
       "\n",
       "    .dataframe tbody tr th {\n",
       "        vertical-align: top;\n",
       "    }\n",
       "\n",
       "    .dataframe thead th {\n",
       "        text-align: right;\n",
       "    }\n",
       "</style>\n",
       "<table border=\"1\" class=\"dataframe\">\n",
       "  <thead>\n",
       "    <tr style=\"text-align: right;\">\n",
       "      <th></th>\n",
       "      <th>HER2_status</th>\n",
       "      <th>CN_ERBB2</th>\n",
       "      <th>CN_CEP17</th>\n",
       "      <th>Ploidy</th>\n",
       "      <th>ERBB2_minus_ploidy</th>\n",
       "      <th>ERBB2_CEP17_ratio</th>\n",
       "    </tr>\n",
       "    <tr>\n",
       "      <th>ICGC_ID</th>\n",
       "      <th></th>\n",
       "      <th></th>\n",
       "      <th></th>\n",
       "      <th></th>\n",
       "      <th></th>\n",
       "      <th></th>\n",
       "    </tr>\n",
       "  </thead>\n",
       "  <tbody>\n",
       "    <tr>\n",
       "      <th>DO225103</th>\n",
       "      <td>0</td>\n",
       "      <td>3</td>\n",
       "      <td>5</td>\n",
       "      <td>3.31</td>\n",
       "      <td>-0.31</td>\n",
       "      <td>0.6</td>\n",
       "    </tr>\n",
       "    <tr>\n",
       "      <th>DO225104</th>\n",
       "      <td>0</td>\n",
       "      <td>3</td>\n",
       "      <td>3</td>\n",
       "      <td>3.35</td>\n",
       "      <td>-0.35</td>\n",
       "      <td>1.0</td>\n",
       "    </tr>\n",
       "    <tr>\n",
       "      <th>DO225105</th>\n",
       "      <td>0</td>\n",
       "      <td>2</td>\n",
       "      <td>2</td>\n",
       "      <td>2.07</td>\n",
       "      <td>-0.07</td>\n",
       "      <td>1.0</td>\n",
       "    </tr>\n",
       "    <tr>\n",
       "      <th>DO225106</th>\n",
       "      <td>0</td>\n",
       "      <td>1</td>\n",
       "      <td>1</td>\n",
       "      <td>1.75</td>\n",
       "      <td>-0.75</td>\n",
       "      <td>1.0</td>\n",
       "    </tr>\n",
       "    <tr>\n",
       "      <th>DO225107</th>\n",
       "      <td>0</td>\n",
       "      <td>2</td>\n",
       "      <td>1</td>\n",
       "      <td>3.38</td>\n",
       "      <td>-1.38</td>\n",
       "      <td>2.0</td>\n",
       "    </tr>\n",
       "  </tbody>\n",
       "</table>\n",
       "</div>"
      ],
      "text/plain": [
       "         HER2_status  CN_ERBB2  CN_CEP17  Ploidy  ERBB2_minus_ploidy  \\\n",
       "ICGC_ID                                                                \n",
       "DO225103           0         3         5    3.31               -0.31   \n",
       "DO225104           0         3         3    3.35               -0.35   \n",
       "DO225105           0         2         2    2.07               -0.07   \n",
       "DO225106           0         1         1    1.75               -0.75   \n",
       "DO225107           0         2         1    3.38               -1.38   \n",
       "\n",
       "          ERBB2_CEP17_ratio  \n",
       "ICGC_ID                      \n",
       "DO225103                0.6  \n",
       "DO225104                1.0  \n",
       "DO225105                1.0  \n",
       "DO225106                1.0  \n",
       "DO225107                2.0  "
      ]
     },
     "execution_count": 8,
     "metadata": {},
     "output_type": "execute_result"
    }
   ],
   "source": [
    "her2_status['ERBB2_minus_ploidy'] = her2_status['CN_ERBB2'] - her2_status['Ploidy']\n",
    "her2_status['ERBB2_CEP17_ratio'] = her2_status['CN_ERBB2'] / her2_status['CN_CEP17']\n",
    "her2_status.head()"
   ]
  },
  {
   "cell_type": "code",
   "execution_count": 9,
   "metadata": {},
   "outputs": [
    {
     "data": {
      "text/html": [
       "<div>\n",
       "<style scoped>\n",
       "    .dataframe tbody tr th:only-of-type {\n",
       "        vertical-align: middle;\n",
       "    }\n",
       "\n",
       "    .dataframe tbody tr th {\n",
       "        vertical-align: top;\n",
       "    }\n",
       "\n",
       "    .dataframe thead th {\n",
       "        text-align: right;\n",
       "    }\n",
       "</style>\n",
       "<table border=\"1\" class=\"dataframe\">\n",
       "  <thead>\n",
       "    <tr style=\"text-align: right;\">\n",
       "      <th></th>\n",
       "      <th>HER2_status</th>\n",
       "      <th>CN_ERBB2</th>\n",
       "      <th>CN_CEP17</th>\n",
       "      <th>Ploidy</th>\n",
       "      <th>ERBB2_minus_ploidy</th>\n",
       "      <th>ERBB2_CEP17_ratio</th>\n",
       "    </tr>\n",
       "    <tr>\n",
       "      <th>ICGC_ID</th>\n",
       "      <th></th>\n",
       "      <th></th>\n",
       "      <th></th>\n",
       "      <th></th>\n",
       "      <th></th>\n",
       "      <th></th>\n",
       "    </tr>\n",
       "  </thead>\n",
       "  <tbody>\n",
       "    <tr>\n",
       "      <th>DO225189</th>\n",
       "      <td>1</td>\n",
       "      <td>19</td>\n",
       "      <td>0</td>\n",
       "      <td>2.00</td>\n",
       "      <td>17.00</td>\n",
       "      <td>inf</td>\n",
       "    </tr>\n",
       "    <tr>\n",
       "      <th>DO225270</th>\n",
       "      <td>0</td>\n",
       "      <td>2</td>\n",
       "      <td>0</td>\n",
       "      <td>3.22</td>\n",
       "      <td>-1.22</td>\n",
       "      <td>inf</td>\n",
       "    </tr>\n",
       "    <tr>\n",
       "      <th>DO225288</th>\n",
       "      <td>1</td>\n",
       "      <td>23</td>\n",
       "      <td>0</td>\n",
       "      <td>3.40</td>\n",
       "      <td>19.60</td>\n",
       "      <td>inf</td>\n",
       "    </tr>\n",
       "    <tr>\n",
       "      <th>DO1014</th>\n",
       "      <td>1</td>\n",
       "      <td>16</td>\n",
       "      <td>0</td>\n",
       "      <td>1.91</td>\n",
       "      <td>14.09</td>\n",
       "      <td>inf</td>\n",
       "    </tr>\n",
       "  </tbody>\n",
       "</table>\n",
       "</div>"
      ],
      "text/plain": [
       "         HER2_status  CN_ERBB2  CN_CEP17  Ploidy  ERBB2_minus_ploidy  \\\n",
       "ICGC_ID                                                                \n",
       "DO225189           1        19         0    2.00               17.00   \n",
       "DO225270           0         2         0    3.22               -1.22   \n",
       "DO225288           1        23         0    3.40               19.60   \n",
       "DO1014             1        16         0    1.91               14.09   \n",
       "\n",
       "          ERBB2_CEP17_ratio  \n",
       "ICGC_ID                      \n",
       "DO225189                inf  \n",
       "DO225270                inf  \n",
       "DO225288                inf  \n",
       "DO1014                  inf  "
      ]
     },
     "execution_count": 9,
     "metadata": {},
     "output_type": "execute_result"
    }
   ],
   "source": [
    "her2_status[her2_status['ERBB2_CEP17_ratio'] == np.inf]"
   ]
  },
  {
   "cell_type": "code",
   "execution_count": 10,
   "metadata": {},
   "outputs": [],
   "source": [
    "her2_status = her2_status[her2_status['ERBB2_CEP17_ratio'] != np.inf]"
   ]
  },
  {
   "cell_type": "markdown",
   "metadata": {},
   "source": [
    "## Variance"
   ]
  },
  {
   "cell_type": "code",
   "execution_count": 11,
   "metadata": {},
   "outputs": [
    {
     "data": {
      "text/html": [
       "<div>\n",
       "<style scoped>\n",
       "    .dataframe tbody tr th:only-of-type {\n",
       "        vertical-align: middle;\n",
       "    }\n",
       "\n",
       "    .dataframe tbody tr th {\n",
       "        vertical-align: top;\n",
       "    }\n",
       "\n",
       "    .dataframe thead th {\n",
       "        text-align: right;\n",
       "    }\n",
       "</style>\n",
       "<table border=\"1\" class=\"dataframe\">\n",
       "  <thead>\n",
       "    <tr style=\"text-align: right;\">\n",
       "      <th></th>\n",
       "      <th>std</th>\n",
       "    </tr>\n",
       "  </thead>\n",
       "  <tbody>\n",
       "    <tr>\n",
       "      <th>CN_ERBB2</th>\n",
       "      <td>12.197160</td>\n",
       "    </tr>\n",
       "    <tr>\n",
       "      <th>ERBB2_minus_ploidy</th>\n",
       "      <td>12.071572</td>\n",
       "    </tr>\n",
       "    <tr>\n",
       "      <th>ERBB2_CEP17_ratio</th>\n",
       "      <td>6.023042</td>\n",
       "    </tr>\n",
       "  </tbody>\n",
       "</table>\n",
       "</div>"
      ],
      "text/plain": [
       "                          std\n",
       "CN_ERBB2            12.197160\n",
       "ERBB2_minus_ploidy  12.071572\n",
       "ERBB2_CEP17_ratio    6.023042"
      ]
     },
     "execution_count": 11,
     "metadata": {},
     "output_type": "execute_result"
    }
   ],
   "source": [
    "her2_status_ready_to_analysis = her2_status[['HER2_status', 'CN_ERBB2', 'ERBB2_minus_ploidy', 'ERBB2_CEP17_ratio']]\n",
    "st_dev = her2_status_ready_to_analysis.describe().loc[['std'], :].T\n",
    "st_dev"
   ]
  },
  {
   "cell_type": "markdown",
   "metadata": {},
   "source": [
    "## Dataset to analysis"
   ]
  },
  {
   "cell_type": "code",
   "execution_count": 12,
   "metadata": {},
   "outputs": [
    {
     "data": {
      "text/html": [
       "<div>\n",
       "<style scoped>\n",
       "    .dataframe tbody tr th:only-of-type {\n",
       "        vertical-align: middle;\n",
       "    }\n",
       "\n",
       "    .dataframe tbody tr th {\n",
       "        vertical-align: top;\n",
       "    }\n",
       "\n",
       "    .dataframe thead th {\n",
       "        text-align: right;\n",
       "    }\n",
       "</style>\n",
       "<table border=\"1\" class=\"dataframe\">\n",
       "  <thead>\n",
       "    <tr style=\"text-align: right;\">\n",
       "      <th></th>\n",
       "      <th>HER2_status</th>\n",
       "      <th>CN_ERBB2</th>\n",
       "      <th>ERBB2_minus_ploidy</th>\n",
       "      <th>ERBB2_CEP17_ratio</th>\n",
       "    </tr>\n",
       "    <tr>\n",
       "      <th>ICGC_ID</th>\n",
       "      <th></th>\n",
       "      <th></th>\n",
       "      <th></th>\n",
       "      <th></th>\n",
       "    </tr>\n",
       "  </thead>\n",
       "  <tbody>\n",
       "    <tr>\n",
       "      <th>DO225103</th>\n",
       "      <td>0</td>\n",
       "      <td>3</td>\n",
       "      <td>-0.31</td>\n",
       "      <td>0.6</td>\n",
       "    </tr>\n",
       "    <tr>\n",
       "      <th>DO225104</th>\n",
       "      <td>0</td>\n",
       "      <td>3</td>\n",
       "      <td>-0.35</td>\n",
       "      <td>1.0</td>\n",
       "    </tr>\n",
       "    <tr>\n",
       "      <th>DO225105</th>\n",
       "      <td>0</td>\n",
       "      <td>2</td>\n",
       "      <td>-0.07</td>\n",
       "      <td>1.0</td>\n",
       "    </tr>\n",
       "    <tr>\n",
       "      <th>DO225106</th>\n",
       "      <td>0</td>\n",
       "      <td>1</td>\n",
       "      <td>-0.75</td>\n",
       "      <td>1.0</td>\n",
       "    </tr>\n",
       "    <tr>\n",
       "      <th>DO225107</th>\n",
       "      <td>0</td>\n",
       "      <td>2</td>\n",
       "      <td>-1.38</td>\n",
       "      <td>2.0</td>\n",
       "    </tr>\n",
       "    <tr>\n",
       "      <th>...</th>\n",
       "      <td>...</td>\n",
       "      <td>...</td>\n",
       "      <td>...</td>\n",
       "      <td>...</td>\n",
       "    </tr>\n",
       "    <tr>\n",
       "      <th>DO225098</th>\n",
       "      <td>0</td>\n",
       "      <td>2</td>\n",
       "      <td>-0.01</td>\n",
       "      <td>1.0</td>\n",
       "    </tr>\n",
       "    <tr>\n",
       "      <th>DO225099</th>\n",
       "      <td>0</td>\n",
       "      <td>3</td>\n",
       "      <td>-0.65</td>\n",
       "      <td>1.0</td>\n",
       "    </tr>\n",
       "    <tr>\n",
       "      <th>DO225100</th>\n",
       "      <td>0</td>\n",
       "      <td>2</td>\n",
       "      <td>0.00</td>\n",
       "      <td>1.0</td>\n",
       "    </tr>\n",
       "    <tr>\n",
       "      <th>DO225101</th>\n",
       "      <td>0</td>\n",
       "      <td>2</td>\n",
       "      <td>-0.08</td>\n",
       "      <td>1.0</td>\n",
       "    </tr>\n",
       "    <tr>\n",
       "      <th>DO225102</th>\n",
       "      <td>0</td>\n",
       "      <td>2</td>\n",
       "      <td>0.02</td>\n",
       "      <td>1.0</td>\n",
       "    </tr>\n",
       "  </tbody>\n",
       "</table>\n",
       "<p>551 rows × 4 columns</p>\n",
       "</div>"
      ],
      "text/plain": [
       "         HER2_status  CN_ERBB2  ERBB2_minus_ploidy  ERBB2_CEP17_ratio\n",
       "ICGC_ID                                                              \n",
       "DO225103           0         3               -0.31                0.6\n",
       "DO225104           0         3               -0.35                1.0\n",
       "DO225105           0         2               -0.07                1.0\n",
       "DO225106           0         1               -0.75                1.0\n",
       "DO225107           0         2               -1.38                2.0\n",
       "...              ...       ...                 ...                ...\n",
       "DO225098           0         2               -0.01                1.0\n",
       "DO225099           0         3               -0.65                1.0\n",
       "DO225100           0         2                0.00                1.0\n",
       "DO225101           0         2               -0.08                1.0\n",
       "DO225102           0         2                0.02                1.0\n",
       "\n",
       "[551 rows x 4 columns]"
      ]
     },
     "execution_count": 12,
     "metadata": {},
     "output_type": "execute_result"
    }
   ],
   "source": [
    "her2_status_ready_to_analysis"
   ]
  },
  {
   "cell_type": "code",
   "execution_count": 13,
   "metadata": {},
   "outputs": [
    {
     "name": "stderr",
     "output_type": "stream",
     "text": [
      "/home/rstepien/miniconda3/envs/machine_learning/lib/python3.8/site-packages/plotnine/stats/stat_bin.py:93: PlotnineWarning: 'stat_bin()' using 'bins = 24'. Pick better value with 'binwidth'.\n"
     ]
    },
    {
     "data": {
      "image/png": "[encoded data removed]",
      "text/plain": [
       "<Figure size 640x480 with 1 Axes>"
      ]
     },
     "metadata": {},
     "output_type": "display_data"
    },
    {
     "data": {
      "text/plain": [
       "<ggplot: (8736798413279)>"
      ]
     },
     "execution_count": 13,
     "metadata": {},
     "output_type": "execute_result"
    }
   ],
   "source": [
    "(ggplot(her2_status_ready_to_analysis, aes(x='HER2_status', fill='HER2_status')) + geom_histogram())"
   ]
  },
  {
   "cell_type": "markdown",
   "metadata": {},
   "source": [
    "## Correlation"
   ]
  },
  {
   "cell_type": "code",
   "execution_count": 14,
   "metadata": {},
   "outputs": [
    {
     "data": {
      "text/html": [
       "<div>\n",
       "<style scoped>\n",
       "    .dataframe tbody tr th:only-of-type {\n",
       "        vertical-align: middle;\n",
       "    }\n",
       "\n",
       "    .dataframe tbody tr th {\n",
       "        vertical-align: top;\n",
       "    }\n",
       "\n",
       "    .dataframe thead th {\n",
       "        text-align: right;\n",
       "    }\n",
       "</style>\n",
       "<table border=\"1\" class=\"dataframe\">\n",
       "  <thead>\n",
       "    <tr style=\"text-align: right;\">\n",
       "      <th></th>\n",
       "      <th>CN_ERBB2</th>\n",
       "      <th>ERBB2_minus_ploidy</th>\n",
       "      <th>ERBB2_CEP17_ratio</th>\n",
       "    </tr>\n",
       "  </thead>\n",
       "  <tbody>\n",
       "    <tr>\n",
       "      <th>CN_ERBB2</th>\n",
       "      <td>1.000000</td>\n",
       "      <td>0.997593</td>\n",
       "      <td>0.826749</td>\n",
       "    </tr>\n",
       "    <tr>\n",
       "      <th>ERBB2_minus_ploidy</th>\n",
       "      <td>0.997593</td>\n",
       "      <td>1.000000</td>\n",
       "      <td>0.833743</td>\n",
       "    </tr>\n",
       "    <tr>\n",
       "      <th>ERBB2_CEP17_ratio</th>\n",
       "      <td>0.826749</td>\n",
       "      <td>0.833743</td>\n",
       "      <td>1.000000</td>\n",
       "    </tr>\n",
       "  </tbody>\n",
       "</table>\n",
       "</div>"
      ],
      "text/plain": [
       "                    CN_ERBB2  ERBB2_minus_ploidy  ERBB2_CEP17_ratio\n",
       "CN_ERBB2            1.000000            0.997593           0.826749\n",
       "ERBB2_minus_ploidy  0.997593            1.000000           0.833743\n",
       "ERBB2_CEP17_ratio   0.826749            0.833743           1.000000"
      ]
     },
     "execution_count": 14,
     "metadata": {},
     "output_type": "execute_result"
    }
   ],
   "source": [
    "her2_status_ready_to_analysis.drop(['HER2_status'], axis=1).corr().abs()"
   ]
  },
  {
   "cell_type": "code",
   "execution_count": 15,
   "metadata": {},
   "outputs": [
    {
     "data": {
      "text/plain": [
       "<AxesSubplot:>"
      ]
     },
     "execution_count": 15,
     "metadata": {},
     "output_type": "execute_result"
    },
    {
     "data": {
      "image/png": "[encoded data removed]",
      "text/plain": [
       "<Figure size 720x576 with 2 Axes>"
      ]
     },
     "metadata": {},
     "output_type": "display_data"
    }
   ],
   "source": [
    "plt.figure(figsize=(10, 8))\n",
    "sns.heatmap(her2_status_ready_to_analysis.drop(['HER2_status'], axis=1).corr().abs(), cmap='Greens', annot=True)"
   ]
  },
  {
   "cell_type": "markdown",
   "metadata": {},
   "source": [
    "## Playground"
   ]
  },
  {
   "cell_type": "code",
   "execution_count": 16,
   "metadata": {},
   "outputs": [],
   "source": [
    "X = her2_status_ready_to_analysis.drop(['HER2_status'], axis=1)\n",
    "y = her2_status_ready_to_analysis['HER2_status']\n",
    "\n",
    "X_train, X_test, y_train, y_test = train_test_split(X, y, stratify=y, random_state=SEED)"
   ]
  },
  {
   "cell_type": "code",
   "execution_count": 17,
   "metadata": {},
   "outputs": [],
   "source": [
    "minmax_scaler = MinMaxScaler()\n",
    "scaled_data = minmax_scaler.fit_transform(X)\n",
    "\n",
    "mds = MDS(n_components=2)\n",
    "mds_scaled = pd.DataFrame(mds.fit_transform(scaled_data))"
   ]
  },
  {
   "cell_type": "code",
   "execution_count": 18,
   "metadata": {},
   "outputs": [
    {
     "data": {
      "image/png": "[encoded data removed]",
      "text/plain": [
       "<Figure size 640x480 with 1 Axes>"
      ]
     },
     "metadata": {},
     "output_type": "display_data"
    },
    {
     "data": {
      "text/plain": [
       "<ggplot: (8736798425067)>"
      ]
     },
     "execution_count": 18,
     "metadata": {},
     "output_type": "execute_result"
    }
   ],
   "source": [
    "mds_scaled['Target'] = y.tolist()\n",
    "mds_scaled.columns = ['PC1', 'PC2', 'Target']\n",
    "\n",
    "(ggplot(mds_scaled, aes(x='PC1', y='PC2', fill='Target')) \n",
    " + geom_point(size=2, alpha=0.5))"
   ]
  },
  {
   "cell_type": "code",
   "execution_count": 19,
   "metadata": {},
   "outputs": [
    {
     "name": "stderr",
     "output_type": "stream",
     "text": [
      "/home/rstepien/miniconda3/envs/machine_learning/lib/python3.8/site-packages/sklearn/base.py:209: FutureWarning: From version 0.24, get_params will raise an AttributeError if a parameter cannot be retrieved as an instance attribute. Previously it would return None.\n"
     ]
    },
    {
     "data": {
      "image/png": "[encoded data removed]",
      "text/plain": [
       "<Figure size 576x396 with 1 Axes>"
      ]
     },
     "metadata": {},
     "output_type": "display_data"
    },
    {
     "name": "stderr",
     "output_type": "stream",
     "text": [
      "/home/rstepien/miniconda3/envs/machine_learning/lib/python3.8/site-packages/sklearn/base.py:209: FutureWarning: From version 0.24, get_params will raise an AttributeError if a parameter cannot be retrieved as an instance attribute. Previously it would return None.\n",
      "/home/rstepien/miniconda3/envs/machine_learning/lib/python3.8/site-packages/sklearn/base.py:209: FutureWarning: From version 0.24, get_params will raise an AttributeError if a parameter cannot be retrieved as an instance attribute. Previously it would return None.\n"
     ]
    },
    {
     "data": {
      "text/plain": [
       "LearningCurve(ax=<AxesSubplot:title={'center':'Learning Curve for RandomForestClassifier'}, xlabel='Training Instances', ylabel='Score'>,\n",
       "              cv=RepeatedStratifiedKFold(n_repeats=10, n_splits=5, random_state=0),\n",
       "              model=None, n_jobs=-1,\n",
       "              train_sizes=array([0.1, 0.2, 0.3, 0.4, 0.5]))"
      ]
     },
     "execution_count": 19,
     "metadata": {},
     "output_type": "execute_result"
    }
   ],
   "source": [
    "learning_curve(RandomForestClassifier(), X, y, cv=CV_SCHEME, train_sizes=np.arange(0.1, 0.6, 0.1), n_jobs=-1)"
   ]
  },
  {
   "cell_type": "code",
   "execution_count": 20,
   "metadata": {},
   "outputs": [
    {
     "name": "stderr",
     "output_type": "stream",
     "text": [
      "/home/rstepien/miniconda3/envs/machine_learning/lib/python3.8/site-packages/sklearn/base.py:209: FutureWarning: From version 0.24, get_params will raise an AttributeError if a parameter cannot be retrieved as an instance attribute. Previously it would return None.\n"
     ]
    },
    {
     "data": {
      "image/png": "[encoded data removed]",
      "text/plain": [
       "<Figure size 576x396 with 1 Axes>"
      ]
     },
     "metadata": {},
     "output_type": "display_data"
    },
    {
     "name": "stderr",
     "output_type": "stream",
     "text": [
      "/home/rstepien/miniconda3/envs/machine_learning/lib/python3.8/site-packages/sklearn/base.py:209: FutureWarning: From version 0.24, get_params will raise an AttributeError if a parameter cannot be retrieved as an instance attribute. Previously it would return None.\n",
      "/home/rstepien/miniconda3/envs/machine_learning/lib/python3.8/site-packages/sklearn/base.py:209: FutureWarning: From version 0.24, get_params will raise an AttributeError if a parameter cannot be retrieved as an instance attribute. Previously it would return None.\n"
     ]
    },
    {
     "data": {
      "text/plain": [
       "ValidationCurve(ax=<AxesSubplot:title={'center':'Validation Curve for RandomForestClassifier'}, xlabel='ccp_alpha', ylabel='score'>,\n",
       "                cv=RepeatedStratifiedKFold(n_repeats=10, n_splits=5, random_state=0),\n",
       "                model=None, n_jobs=-1, param_name='ccp_alpha',\n",
       "                param_range=array([0.01, 0.02, 0.03, 0.04, 0.05, 0.06, 0.07, 0.08, 0.09, 0.1 , 0.11,\n",
       "       0.12, 0.13, 0.14, 0.15, 0.16, 0.17, 0.18, 0.19, 0.2 , 0.21, 0.22,\n",
       "       0.23, 0.24, 0.25, 0.26, 0.27, 0.28, 0.29, 0.3 , 0.31, 0.32, 0.33,\n",
       "       0.34, 0.35, 0.36, 0.37, 0.38, 0.39]),\n",
       "                scoring='f1_weighted')"
      ]
     },
     "execution_count": 20,
     "metadata": {},
     "output_type": "execute_result"
    }
   ],
   "source": [
    "validation_curve(RandomForestClassifier(), X, y, scoring='f1_weighted', param_name='ccp_alpha', param_range=np.arange(0.01, 0.4, 0.01), cv=CV_SCHEME, n_jobs=-1)"
   ]
  },
  {
   "cell_type": "code",
   "execution_count": 21,
   "metadata": {},
   "outputs": [
    {
     "name": "stderr",
     "output_type": "stream",
     "text": [
      "/home/rstepien/miniconda3/envs/machine_learning/lib/python3.8/site-packages/sklearn/base.py:209: FutureWarning: From version 0.24, get_params will raise an AttributeError if a parameter cannot be retrieved as an instance attribute. Previously it would return None.\n"
     ]
    },
    {
     "data": {
      "image/png": "[encoded data removed]",
      "text/plain": [
       "<Figure size 576x396 with 1 Axes>"
      ]
     },
     "metadata": {},
     "output_type": "display_data"
    },
    {
     "name": "stderr",
     "output_type": "stream",
     "text": [
      "/home/rstepien/miniconda3/envs/machine_learning/lib/python3.8/site-packages/sklearn/base.py:209: FutureWarning: From version 0.24, get_params will raise an AttributeError if a parameter cannot be retrieved as an instance attribute. Previously it would return None.\n",
      "/home/rstepien/miniconda3/envs/machine_learning/lib/python3.8/site-packages/sklearn/base.py:209: FutureWarning: From version 0.24, get_params will raise an AttributeError if a parameter cannot be retrieved as an instance attribute. Previously it would return None.\n"
     ]
    },
    {
     "data": {
      "text/plain": [
       "ValidationCurve(ax=<AxesSubplot:title={'center':'Validation Curve for RandomForestClassifier'}, xlabel='max_depth', ylabel='score'>,\n",
       "                cv=RepeatedStratifiedKFold(n_repeats=10, n_splits=5, random_state=0),\n",
       "                model=None, n_jobs=-1, param_name='max_depth',\n",
       "                param_range=array([ 2,  3,  4,  5,  6,  7,  8,  9, 10, 11, 12, 13, 14]),\n",
       "                scoring='f1_weighted')"
      ]
     },
     "execution_count": 21,
     "metadata": {},
     "output_type": "execute_result"
    }
   ],
   "source": [
    "validation_curve(RandomForestClassifier(), X, y, scoring='f1_weighted', param_name='max_depth', param_range=np.arange(2, 15, 1), cv=CV_SCHEME, n_jobs=-1)"
   ]
  },
  {
   "cell_type": "code",
   "execution_count": 22,
   "metadata": {},
   "outputs": [
    {
     "name": "stderr",
     "output_type": "stream",
     "text": [
      "/home/rstepien/miniconda3/envs/machine_learning/lib/python3.8/site-packages/sklearn/base.py:209: FutureWarning: From version 0.24, get_params will raise an AttributeError if a parameter cannot be retrieved as an instance attribute. Previously it would return None.\n"
     ]
    },
    {
     "data": {
      "image/png": "[encoded data removed]",
      "text/plain": [
       "<Figure size 576x396 with 1 Axes>"
      ]
     },
     "metadata": {},
     "output_type": "display_data"
    },
    {
     "name": "stderr",
     "output_type": "stream",
     "text": [
      "/home/rstepien/miniconda3/envs/machine_learning/lib/python3.8/site-packages/sklearn/base.py:209: FutureWarning: From version 0.24, get_params will raise an AttributeError if a parameter cannot be retrieved as an instance attribute. Previously it would return None.\n",
      "/home/rstepien/miniconda3/envs/machine_learning/lib/python3.8/site-packages/sklearn/base.py:209: FutureWarning: From version 0.24, get_params will raise an AttributeError if a parameter cannot be retrieved as an instance attribute. Previously it would return None.\n"
     ]
    },
    {
     "data": {
      "text/plain": [
       "ValidationCurve(ax=<AxesSubplot:title={'center':'Validation Curve for RandomForestClassifier'}, xlabel='min_samples_split', ylabel='score'>,\n",
       "                cv=RepeatedStratifiedKFold(n_repeats=10, n_splits=5, random_state=0),\n",
       "                model=None, n_jobs=-1, param_name='min_samples_split',\n",
       "                param_range=array([ 2,  3,  4,  5,  6,  7,  8,  9, 10, 11, 12, 13, 14]),\n",
       "                scoring='f1_weighted')"
      ]
     },
     "execution_count": 22,
     "metadata": {},
     "output_type": "execute_result"
    }
   ],
   "source": [
    "validation_curve(RandomForestClassifier(), X, y, scoring='f1_weighted', param_name='min_samples_split', param_range=np.arange(2, 15, 1), cv=CV_SCHEME, n_jobs=-1)"
   ]
  },
  {
   "cell_type": "code",
   "execution_count": 23,
   "metadata": {},
   "outputs": [
    {
     "name": "stderr",
     "output_type": "stream",
     "text": [
      "/home/rstepien/miniconda3/envs/machine_learning/lib/python3.8/site-packages/sklearn/base.py:209: FutureWarning: From version 0.24, get_params will raise an AttributeError if a parameter cannot be retrieved as an instance attribute. Previously it would return None.\n"
     ]
    },
    {
     "data": {
      "image/png": "[encoded data removed]",
      "text/plain": [
       "<Figure size 576x396 with 1 Axes>"
      ]
     },
     "metadata": {},
     "output_type": "display_data"
    },
    {
     "name": "stderr",
     "output_type": "stream",
     "text": [
      "/home/rstepien/miniconda3/envs/machine_learning/lib/python3.8/site-packages/sklearn/base.py:209: FutureWarning: From version 0.24, get_params will raise an AttributeError if a parameter cannot be retrieved as an instance attribute. Previously it would return None.\n",
      "/home/rstepien/miniconda3/envs/machine_learning/lib/python3.8/site-packages/sklearn/base.py:209: FutureWarning: From version 0.24, get_params will raise an AttributeError if a parameter cannot be retrieved as an instance attribute. Previously it would return None.\n"
     ]
    },
    {
     "data": {
      "text/plain": [
       "ValidationCurve(ax=<AxesSubplot:title={'center':'Validation Curve for RandomForestClassifier'}, xlabel='min_samples_leaf', ylabel='score'>,\n",
       "                cv=RepeatedStratifiedKFold(n_repeats=10, n_splits=5, random_state=0),\n",
       "                model=None, n_jobs=-1, param_name='min_samples_leaf',\n",
       "                param_range=array([ 1,  2,  3,  4,  5,  6,  7,  8,  9, 10, 11, 12, 13, 14]),\n",
       "                scoring='f1_weighted')"
      ]
     },
     "execution_count": 23,
     "metadata": {},
     "output_type": "execute_result"
    }
   ],
   "source": [
    "validation_curve(RandomForestClassifier(), X, y, scoring='f1_weighted', param_name='min_samples_leaf', param_range=np.arange(1, 15, 1), cv=CV_SCHEME, n_jobs=-1)"
   ]
  },
  {
   "cell_type": "markdown",
   "metadata": {},
   "source": [
    "## Simple RandomForest"
   ]
  },
  {
   "cell_type": "code",
   "execution_count": 24,
   "metadata": {},
   "outputs": [],
   "source": [
    "pipe = Pipeline([\n",
    "    ('scaler', None),\n",
    "    ('classifier', None)\n",
    "])\n",
    "\n",
    "scoring = {\n",
    "    'Accuracy': 'accuracy',\n",
    "    'Precision': make_scorer(precision_score, average='micro'),\n",
    "    'Recall': make_scorer(recall_score, average='micro'),\n",
    "    'Kappa': make_scorer(cohen_kappa_score),\n",
    "    'F1 Weighted': make_scorer(f1_score, average='weighted'),\n",
    "    'F1 Macro': make_scorer(f1_score, average='macro')\n",
    "}\n",
    "\n",
    "hyperparameters_space = {\n",
    "    'classifier': [RandomForestClassifier()],\n",
    "}\n",
    "\n",
    "grid_search_rf_no_tuning = GridSearchCV(\n",
    "    estimator=pipe,\n",
    "    param_grid=hyperparameters_space,\n",
    "    scoring=scoring,\n",
    "    n_jobs=-1,\n",
    "    cv=CV_SCHEME,\n",
    "    refit='Accuracy',\n",
    "    verbose=2,\n",
    "    return_train_score=True\n",
    ")"
   ]
  },
  {
   "cell_type": "code",
   "execution_count": 25,
   "metadata": {},
   "outputs": [
    {
     "name": "stderr",
     "output_type": "stream",
     "text": [
      "[Parallel(n_jobs=-1)]: Using backend LokyBackend with 32 concurrent workers.\n"
     ]
    },
    {
     "name": "stdout",
     "output_type": "stream",
     "text": [
      "Fitting 50 folds for each of 1 candidates, totalling 50 fits\n"
     ]
    },
    {
     "name": "stderr",
     "output_type": "stream",
     "text": [
      "[Parallel(n_jobs=-1)]: Done  13 out of  50 | elapsed:    0.4s remaining:    1.0s\n",
      "[Parallel(n_jobs=-1)]: Done  39 out of  50 | elapsed:    0.6s remaining:    0.2s\n",
      "[Parallel(n_jobs=-1)]: Done  50 out of  50 | elapsed:    0.6s finished\n"
     ]
    },
    {
     "data": {
      "text/plain": [
       "GridSearchCV(cv=RepeatedStratifiedKFold(n_repeats=10, n_splits=5, random_state=0),\n",
       "             estimator=Pipeline(steps=[('scaler', None), ('classifier', None)]),\n",
       "             n_jobs=-1, param_grid={'classifier': [RandomForestClassifier()]},\n",
       "             refit='Accuracy', return_train_score=True,\n",
       "             scoring={'Accuracy': 'accuracy',\n",
       "                      'F1 Macro': make_scorer(f1_score, average=macro),\n",
       "                      'F1 Weighted': make_scorer(f1_score, average=weighted),\n",
       "                      'Kappa': make_scorer(cohen_kappa_score),\n",
       "                      'Precision': make_scorer(precision_score, average=micro),\n",
       "                      'Recall': make_scorer(recall_score, average=micro)},\n",
       "             verbose=2)"
      ]
     },
     "execution_count": 25,
     "metadata": {},
     "output_type": "execute_result"
    }
   ],
   "source": [
    "grid_search_rf_no_tuning.fit(X_train, y_train)"
   ]
  },
  {
   "cell_type": "code",
   "execution_count": 26,
   "metadata": {},
   "outputs": [
    {
     "name": "stdout",
     "output_type": "stream",
     "text": [
      "0.9710144927536232\n"
     ]
    },
    {
     "data": {
      "text/html": [
       "<div>\n",
       "<style scoped>\n",
       "    .dataframe tbody tr th:only-of-type {\n",
       "        vertical-align: middle;\n",
       "    }\n",
       "\n",
       "    .dataframe tbody tr th {\n",
       "        vertical-align: top;\n",
       "    }\n",
       "\n",
       "    .dataframe thead th {\n",
       "        text-align: right;\n",
       "    }\n",
       "</style>\n",
       "<table border=\"1\" class=\"dataframe\">\n",
       "  <thead>\n",
       "    <tr style=\"text-align: right;\">\n",
       "      <th></th>\n",
       "      <th></th>\n",
       "      <th>Mean</th>\n",
       "      <th>SD</th>\n",
       "    </tr>\n",
       "  </thead>\n",
       "  <tbody>\n",
       "    <tr>\n",
       "      <th rowspan=\"6\" valign=\"top\">Train</th>\n",
       "      <th>Accuracy</th>\n",
       "      <td>0.999939</td>\n",
       "      <td>0</td>\n",
       "    </tr>\n",
       "    <tr>\n",
       "      <th>Precision</th>\n",
       "      <td>0.999939</td>\n",
       "      <td>0</td>\n",
       "    </tr>\n",
       "    <tr>\n",
       "      <th>Recall</th>\n",
       "      <td>0.999939</td>\n",
       "      <td>0</td>\n",
       "    </tr>\n",
       "    <tr>\n",
       "      <th>F1 Macro</th>\n",
       "      <td>0.999859</td>\n",
       "      <td>0</td>\n",
       "    </tr>\n",
       "    <tr>\n",
       "      <th>F1 Weighted</th>\n",
       "      <td>0.999939</td>\n",
       "      <td>0</td>\n",
       "    </tr>\n",
       "    <tr>\n",
       "      <th>Kappa</th>\n",
       "      <td>0.999719</td>\n",
       "      <td>0</td>\n",
       "    </tr>\n",
       "    <tr>\n",
       "      <th rowspan=\"6\" valign=\"top\">Test</th>\n",
       "      <th>Accuracy</th>\n",
       "      <td>0.967323</td>\n",
       "      <td>0</td>\n",
       "    </tr>\n",
       "    <tr>\n",
       "      <th>Precision</th>\n",
       "      <td>0.967323</td>\n",
       "      <td>0</td>\n",
       "    </tr>\n",
       "    <tr>\n",
       "      <th>Recall</th>\n",
       "      <td>0.967323</td>\n",
       "      <td>0</td>\n",
       "    </tr>\n",
       "    <tr>\n",
       "      <th>F1 Macro</th>\n",
       "      <td>0.921204</td>\n",
       "      <td>0</td>\n",
       "    </tr>\n",
       "    <tr>\n",
       "      <th>F1 Weighted</th>\n",
       "      <td>0.966597</td>\n",
       "      <td>0</td>\n",
       "    </tr>\n",
       "    <tr>\n",
       "      <th>Kappa</th>\n",
       "      <td>0.842599</td>\n",
       "      <td>0</td>\n",
       "    </tr>\n",
       "  </tbody>\n",
       "</table>\n",
       "</div>"
      ],
      "text/plain": [
       "                       Mean  SD\n",
       "Train Accuracy     0.999939   0\n",
       "      Precision    0.999939   0\n",
       "      Recall       0.999939   0\n",
       "      F1 Macro     0.999859   0\n",
       "      F1 Weighted  0.999939   0\n",
       "      Kappa        0.999719   0\n",
       "Test  Accuracy     0.967323   0\n",
       "      Precision    0.967323   0\n",
       "      Recall       0.967323   0\n",
       "      F1 Macro     0.921204   0\n",
       "      F1 Weighted  0.966597   0\n",
       "      Kappa        0.842599   0"
      ]
     },
     "execution_count": 26,
     "metadata": {},
     "output_type": "execute_result"
    }
   ],
   "source": [
    "print(grid_search_rf_no_tuning.score(X_test, y_test))\n",
    "cv_results = grid_search_rf_no_tuning.cv_results_\n",
    "\n",
    "show_cv_results(cv_results)"
   ]
  },
  {
   "cell_type": "code",
   "execution_count": 27,
   "metadata": {},
   "outputs": [
    {
     "data": {
      "text/plain": [
       "<sklearn.metrics._plot.confusion_matrix.ConfusionMatrixDisplay at 0x7f2314312e50>"
      ]
     },
     "execution_count": 27,
     "metadata": {},
     "output_type": "execute_result"
    },
    {
     "data": {
      "image/png": "[encoded data removed]",
      "text/plain": [
       "<Figure size 720x576 with 2 Axes>"
      ]
     },
     "metadata": {},
     "output_type": "display_data"
    }
   ],
   "source": [
    "fig, ax = plt.subplots(figsize=(10, 8))\n",
    "font = {'weight' : 'bold', 'size'   : 22}\n",
    "matplotlib.rc('font', **font)\n",
    "plot_confusion_matrix(grid_search_rf_no_tuning.best_estimator_, X_test, y_test, ax=ax, cmap=plt.cm.Blues)"
   ]
  },
  {
   "cell_type": "markdown",
   "metadata": {},
   "source": [
    "## RandomForest with hyperparameters tuning"
   ]
  },
  {
   "cell_type": "code",
   "execution_count": 28,
   "metadata": {},
   "outputs": [],
   "source": [
    "pipe = Pipeline([\n",
    "    ('scaler', None),\n",
    "    ('classifier', None)\n",
    "])\n",
    "\n",
    "scoring = {\n",
    "    'Accuracy': 'accuracy',\n",
    "    'Precision': make_scorer(precision_score, average='micro'),\n",
    "    'Recall': make_scorer(recall_score, average='micro'),\n",
    "    'F1 Weighted': make_scorer(f1_score, average='weighted'),\n",
    "    'F1 Macro': make_scorer(f1_score, average='macro'),\n",
    "    'Kappa': make_scorer(cohen_kappa_score)\n",
    "}\n",
    "\n",
    "hyperparameters_space = {\n",
    "    'classifier': [RandomForestClassifier()],\n",
    "    'classifier__n_estimators': [200],\n",
    "    'classifier__ccp_alpha': [0.01, 0.02, 0.04, 0.08, 0.2],\n",
    "    'classifier__max_depth': [1, 2, 4, 8],\n",
    "    'classifier__min_samples_split': [2, 4, 8],\n",
    "    'classifier__min_samples_leaf': [1, 2, 4, 8],\n",
    "    'classifier__bootstrap': [True, False],\n",
    "    'classifier__criterion': ['gini', 'entropy'],\n",
    "    'classifier__class_weight': [None, 'balanced']\n",
    "}\n",
    "\n",
    "grid_search_rf_tuning = GridSearchCV(\n",
    "    estimator=pipe,\n",
    "    scoring=scoring,\n",
    "    param_grid=hyperparameters_space,\n",
    "    cv=CV_SCHEME,\n",
    "    refit='Accuracy',\n",
    "    return_train_score=True,\n",
    "    n_jobs=-1,\n",
    "    verbose=2\n",
    ")"
   ]
  },
  {
   "cell_type": "code",
   "execution_count": 29,
   "metadata": {},
   "outputs": [
    {
     "name": "stdout",
     "output_type": "stream",
     "text": [
      "Fitting 50 folds for each of 1920 candidates, totalling 96000 fits\n"
     ]
    },
    {
     "name": "stderr",
     "output_type": "stream",
     "text": [
      "[Parallel(n_jobs=-1)]: Using backend LokyBackend with 32 concurrent workers.\n",
      "[Parallel(n_jobs=-1)]: Done  98 tasks      | elapsed:    2.3s\n",
      "[Parallel(n_jobs=-1)]: Done 301 tasks      | elapsed:    5.9s\n",
      "[Parallel(n_jobs=-1)]: Done 584 tasks      | elapsed:   11.1s\n",
      "[Parallel(n_jobs=-1)]: Done 949 tasks      | elapsed:   17.7s\n",
      "[Parallel(n_jobs=-1)]: Done 1394 tasks      | elapsed:   26.0s\n",
      "[Parallel(n_jobs=-1)]: Done 1921 tasks      | elapsed:   35.8s\n",
      "[Parallel(n_jobs=-1)]: Done 2528 tasks      | elapsed:   47.2s\n",
      "[Parallel(n_jobs=-1)]: Done 3217 tasks      | elapsed:   59.9s\n",
      "[Parallel(n_jobs=-1)]: Done 3986 tasks      | elapsed:  1.2min\n",
      "[Parallel(n_jobs=-1)]: Done 4837 tasks      | elapsed:  1.5min\n",
      "[Parallel(n_jobs=-1)]: Done 5768 tasks      | elapsed:  1.8min\n",
      "[Parallel(n_jobs=-1)]: Done 6781 tasks      | elapsed:  2.1min\n",
      "[Parallel(n_jobs=-1)]: Done 7874 tasks      | elapsed:  2.4min\n",
      "[Parallel(n_jobs=-1)]: Done 9049 tasks      | elapsed:  2.8min\n",
      "[Parallel(n_jobs=-1)]: Done 10304 tasks      | elapsed:  3.2min\n",
      "[Parallel(n_jobs=-1)]: Done 11641 tasks      | elapsed:  3.6min\n",
      "[Parallel(n_jobs=-1)]: Done 13058 tasks      | elapsed:  4.1min\n",
      "[Parallel(n_jobs=-1)]: Done 14557 tasks      | elapsed:  4.5min\n",
      "[Parallel(n_jobs=-1)]: Done 16136 tasks      | elapsed:  5.0min\n",
      "[Parallel(n_jobs=-1)]: Done 17797 tasks      | elapsed:  5.5min\n",
      "[Parallel(n_jobs=-1)]: Done 19538 tasks      | elapsed:  6.1min\n",
      "[Parallel(n_jobs=-1)]: Done 21361 tasks      | elapsed:  6.6min\n",
      "[Parallel(n_jobs=-1)]: Done 23264 tasks      | elapsed:  7.2min\n",
      "[Parallel(n_jobs=-1)]: Done 25249 tasks      | elapsed:  7.9min\n",
      "[Parallel(n_jobs=-1)]: Done 27314 tasks      | elapsed:  8.5min\n",
      "[Parallel(n_jobs=-1)]: Done 29461 tasks      | elapsed:  9.2min\n",
      "[Parallel(n_jobs=-1)]: Done 31688 tasks      | elapsed:  9.9min\n",
      "[Parallel(n_jobs=-1)]: Done 33997 tasks      | elapsed: 10.6min\n",
      "[Parallel(n_jobs=-1)]: Done 36386 tasks      | elapsed: 11.3min\n",
      "[Parallel(n_jobs=-1)]: Done 38857 tasks      | elapsed: 12.1min\n",
      "[Parallel(n_jobs=-1)]: Done 41408 tasks      | elapsed: 12.9min\n",
      "[Parallel(n_jobs=-1)]: Done 44041 tasks      | elapsed: 13.7min\n",
      "[Parallel(n_jobs=-1)]: Done 46754 tasks      | elapsed: 14.5min\n",
      "[Parallel(n_jobs=-1)]: Done 49549 tasks      | elapsed: 15.3min\n",
      "[Parallel(n_jobs=-1)]: Done 52424 tasks      | elapsed: 16.0min\n",
      "[Parallel(n_jobs=-1)]: Done 55381 tasks      | elapsed: 16.8min\n",
      "[Parallel(n_jobs=-1)]: Done 58418 tasks      | elapsed: 17.6min\n",
      "[Parallel(n_jobs=-1)]: Done 61537 tasks      | elapsed: 18.3min\n",
      "[Parallel(n_jobs=-1)]: Done 64736 tasks      | elapsed: 19.2min\n",
      "[Parallel(n_jobs=-1)]: Done 68017 tasks      | elapsed: 20.0min\n",
      "[Parallel(n_jobs=-1)]: Done 71378 tasks      | elapsed: 20.8min\n",
      "[Parallel(n_jobs=-1)]: Done 74821 tasks      | elapsed: 21.7min\n",
      "[Parallel(n_jobs=-1)]: Done 78344 tasks      | elapsed: 22.6min\n",
      "[Parallel(n_jobs=-1)]: Done 81949 tasks      | elapsed: 23.5min\n",
      "[Parallel(n_jobs=-1)]: Done 85634 tasks      | elapsed: 24.5min\n",
      "[Parallel(n_jobs=-1)]: Done 89401 tasks      | elapsed: 25.4min\n",
      "[Parallel(n_jobs=-1)]: Done 93248 tasks      | elapsed: 26.4min\n",
      "[Parallel(n_jobs=-1)]: Done 96000 out of 96000 | elapsed: 27.1min finished\n"
     ]
    },
    {
     "data": {
      "text/plain": [
       "GridSearchCV(cv=RepeatedStratifiedKFold(n_repeats=10, n_splits=5, random_state=0),\n",
       "             estimator=Pipeline(steps=[('scaler', None), ('classifier', None)]),\n",
       "             n_jobs=-1,\n",
       "             param_grid={'classifier': [RandomForestClassifier(bootstrap=False,\n",
       "                                                               ccp_alpha=0.01,\n",
       "                                                               max_depth=1,\n",
       "                                                               n_estimators=200)],\n",
       "                         'classifier__bootstrap': [True, False],\n",
       "                         'classifier__ccp_alpha': [0.01, 0.02, 0.04, 0.08, 0.2...\n",
       "                         'classifier__n_estimators': [200]},\n",
       "             refit='Accuracy', return_train_score=True,\n",
       "             scoring={'Accuracy': 'accuracy',\n",
       "                      'F1 Macro': make_scorer(f1_score, average=macro),\n",
       "                      'F1 Weighted': make_scorer(f1_score, average=weighted),\n",
       "                      'Kappa': make_scorer(cohen_kappa_score),\n",
       "                      'Precision': make_scorer(precision_score, average=micro),\n",
       "                      'Recall': make_scorer(recall_score, average=micro)},\n",
       "             verbose=2)"
      ]
     },
     "execution_count": 29,
     "metadata": {},
     "output_type": "execute_result"
    }
   ],
   "source": [
    "grid_search_rf_tuning.fit(X_train, y_train)"
   ]
  },
  {
   "cell_type": "code",
   "execution_count": 30,
   "metadata": {},
   "outputs": [
    {
     "name": "stdout",
     "output_type": "stream",
     "text": [
      "0.9710144927536232\n",
      "RandomForestClassifier(bootstrap=False, ccp_alpha=0.01, max_depth=1,\n",
      "                       n_estimators=200)\n"
     ]
    },
    {
     "data": {
      "text/html": [
       "<div>\n",
       "<style scoped>\n",
       "    .dataframe tbody tr th:only-of-type {\n",
       "        vertical-align: middle;\n",
       "    }\n",
       "\n",
       "    .dataframe tbody tr th {\n",
       "        vertical-align: top;\n",
       "    }\n",
       "\n",
       "    .dataframe thead th {\n",
       "        text-align: right;\n",
       "    }\n",
       "</style>\n",
       "<table border=\"1\" class=\"dataframe\">\n",
       "  <thead>\n",
       "    <tr style=\"text-align: right;\">\n",
       "      <th></th>\n",
       "      <th></th>\n",
       "      <th>Mean</th>\n",
       "      <th>SD</th>\n",
       "    </tr>\n",
       "  </thead>\n",
       "  <tbody>\n",
       "    <tr>\n",
       "      <th rowspan=\"6\" valign=\"top\">Train</th>\n",
       "      <th>Accuracy</th>\n",
       "      <td>0.969105</td>\n",
       "      <td>0.021665</td>\n",
       "    </tr>\n",
       "    <tr>\n",
       "      <th>Precision</th>\n",
       "      <td>0.969105</td>\n",
       "      <td>0.021665</td>\n",
       "    </tr>\n",
       "    <tr>\n",
       "      <th>Recall</th>\n",
       "      <td>0.969105</td>\n",
       "      <td>0.021665</td>\n",
       "    </tr>\n",
       "    <tr>\n",
       "      <th>F1 Macro</th>\n",
       "      <td>0.917511</td>\n",
       "      <td>0.103615</td>\n",
       "    </tr>\n",
       "    <tr>\n",
       "      <th>F1 Weighted</th>\n",
       "      <td>0.966486</td>\n",
       "      <td>0.034084</td>\n",
       "    </tr>\n",
       "    <tr>\n",
       "      <th>Kappa</th>\n",
       "      <td>0.838378</td>\n",
       "      <td>0.192934</td>\n",
       "    </tr>\n",
       "    <tr>\n",
       "      <th rowspan=\"6\" valign=\"top\">Test</th>\n",
       "      <th>Accuracy</th>\n",
       "      <td>0.963694</td>\n",
       "      <td>0.020935</td>\n",
       "    </tr>\n",
       "    <tr>\n",
       "      <th>Precision</th>\n",
       "      <td>0.963694</td>\n",
       "      <td>0.020935</td>\n",
       "    </tr>\n",
       "    <tr>\n",
       "      <th>Recall</th>\n",
       "      <td>0.963694</td>\n",
       "      <td>0.020935</td>\n",
       "    </tr>\n",
       "    <tr>\n",
       "      <th>F1 Macro</th>\n",
       "      <td>0.904427</td>\n",
       "      <td>0.100897</td>\n",
       "    </tr>\n",
       "    <tr>\n",
       "      <th>F1 Weighted</th>\n",
       "      <td>0.960945</td>\n",
       "      <td>0.033042</td>\n",
       "    </tr>\n",
       "    <tr>\n",
       "      <th>Kappa</th>\n",
       "      <td>0.812389</td>\n",
       "      <td>0.187575</td>\n",
       "    </tr>\n",
       "  </tbody>\n",
       "</table>\n",
       "</div>"
      ],
      "text/plain": [
       "                       Mean        SD\n",
       "Train Accuracy     0.969105  0.021665\n",
       "      Precision    0.969105  0.021665\n",
       "      Recall       0.969105  0.021665\n",
       "      F1 Macro     0.917511  0.103615\n",
       "      F1 Weighted  0.966486  0.034084\n",
       "      Kappa        0.838378  0.192934\n",
       "Test  Accuracy     0.963694  0.020935\n",
       "      Precision    0.963694  0.020935\n",
       "      Recall       0.963694  0.020935\n",
       "      F1 Macro     0.904427  0.100897\n",
       "      F1 Weighted  0.960945  0.033042\n",
       "      Kappa        0.812389  0.187575"
      ]
     },
     "execution_count": 30,
     "metadata": {},
     "output_type": "execute_result"
    }
   ],
   "source": [
    "print(grid_search_rf_tuning.score(X_test, y_test))\n",
    "print(grid_search_rf_tuning.best_params_['classifier'])\n",
    "cv_results_df = pd.DataFrame(pd.DataFrame(grid_search_rf_tuning.cv_results_))\n",
    "show_cv_results(cv_results_df)"
   ]
  },
  {
   "cell_type": "code",
   "execution_count": 31,
   "metadata": {},
   "outputs": [
    {
     "data": {
      "text/plain": [
       "<sklearn.metrics._plot.confusion_matrix.ConfusionMatrixDisplay at 0x7f23141e61c0>"
      ]
     },
     "execution_count": 31,
     "metadata": {},
     "output_type": "execute_result"
    },
    {
     "data": {
      "image/png": "[encoded data removed]",
      "text/plain": [
       "<Figure size 720x576 with 2 Axes>"
      ]
     },
     "metadata": {},
     "output_type": "display_data"
    }
   ],
   "source": [
    "fig, ax = plt.subplots(figsize=(10, 8))\n",
    "font = {'weight' : 'bold', 'size'   : 22}\n",
    "matplotlib.rc('font', **font)\n",
    "plot_confusion_matrix(grid_search_rf_tuning.best_estimator_, X_test, y_test, ax=ax, cmap=plt.cm.Blues)"
   ]
  },
  {
   "cell_type": "markdown",
   "metadata": {},
   "source": [
    "# DecisionTree "
   ]
  },
  {
   "cell_type": "code",
   "execution_count": 32,
   "metadata": {},
   "outputs": [],
   "source": [
    "pipe = Pipeline([\n",
    "    ('scaler', None),\n",
    "    ('classifier', None)\n",
    "])\n",
    "\n",
    "scoring = {\n",
    "    'Accuracy': 'accuracy',\n",
    "    'Precision': make_scorer(precision_score, average='micro'),\n",
    "    'Recall': make_scorer(recall_score, average='micro'),\n",
    "    'F1 Weighted': make_scorer(f1_score, average='weighted'),\n",
    "    'F1 Macro': make_scorer(f1_score, average='macro'),\n",
    "    'Kappa': make_scorer(cohen_kappa_score)\n",
    "}\n",
    "\n",
    "hyperparameters_space = {\n",
    "    'classifier': [DecisionTreeClassifier()],\n",
    "    'scaler': [MinMaxScaler()],\n",
    "    'classifier__ccp_alpha': [0.01, 0.02, 0.04, 0.08, 0.2],\n",
    "    'classifier__max_depth': [1, 2, 4, 8],\n",
    "    'classifier__min_samples_split': [2, 4, 8],\n",
    "    'classifier__min_samples_leaf': [1, 2, 4, 8],\n",
    "    'classifier__criterion': ['gini', 'entropy'],\n",
    "    'classifier__class_weight': [None, 'balanced']\n",
    "}\n",
    "\n",
    "grid_search_dt_tuning = GridSearchCV(\n",
    "    estimator=pipe,\n",
    "    scoring=scoring,\n",
    "    param_grid=hyperparameters_space,\n",
    "    cv=CV_SCHEME,\n",
    "    refit='Accuracy',\n",
    "    return_train_score=True,\n",
    "    n_jobs=-1,\n",
    "    verbose=2\n",
    ")\n"
   ]
  },
  {
   "cell_type": "code",
   "execution_count": 33,
   "metadata": {},
   "outputs": [
    {
     "name": "stdout",
     "output_type": "stream",
     "text": [
      "Fitting 50 folds for each of 960 candidates, totalling 48000 fits\n"
     ]
    },
    {
     "name": "stderr",
     "output_type": "stream",
     "text": [
      "[Parallel(n_jobs=-1)]: Using backend LokyBackend with 32 concurrent workers.\n",
      "[Parallel(n_jobs=-1)]: Done 132 tasks      | elapsed:    0.4s\n",
      "[Parallel(n_jobs=-1)]: Done 884 tasks      | elapsed:    1.6s\n",
      "[Parallel(n_jobs=-1)]: Done 2016 tasks      | elapsed:    3.4s\n",
      "[Parallel(n_jobs=-1)]: Done 3476 tasks      | elapsed:    5.7s\n",
      "[Parallel(n_jobs=-1)]: Done 5256 tasks      | elapsed:    8.4s\n",
      "[Parallel(n_jobs=-1)]: Done 7364 tasks      | elapsed:   11.8s\n",
      "[Parallel(n_jobs=-1)]: Done 9792 tasks      | elapsed:   15.6s\n",
      "[Parallel(n_jobs=-1)]: Done 12548 tasks      | elapsed:   19.8s\n",
      "[Parallel(n_jobs=-1)]: Done 15624 tasks      | elapsed:   24.8s\n",
      "[Parallel(n_jobs=-1)]: Done 19028 tasks      | elapsed:   30.2s\n",
      "[Parallel(n_jobs=-1)]: Done 22752 tasks      | elapsed:   35.9s\n",
      "[Parallel(n_jobs=-1)]: Done 26804 tasks      | elapsed:   42.4s\n",
      "[Parallel(n_jobs=-1)]: Done 31176 tasks      | elapsed:   49.4s\n",
      "[Parallel(n_jobs=-1)]: Done 35876 tasks      | elapsed:   56.7s\n",
      "[Parallel(n_jobs=-1)]: Done 40896 tasks      | elapsed:  1.1min\n",
      "[Parallel(n_jobs=-1)]: Done 46244 tasks      | elapsed:  1.2min\n",
      "[Parallel(n_jobs=-1)]: Done 48000 out of 48000 | elapsed:  1.3min finished\n"
     ]
    },
    {
     "data": {
      "text/plain": [
       "GridSearchCV(cv=RepeatedStratifiedKFold(n_repeats=10, n_splits=5, random_state=0),\n",
       "             estimator=Pipeline(steps=[('scaler', None), ('classifier', None)]),\n",
       "             n_jobs=-1,\n",
       "             param_grid={'classifier': [DecisionTreeClassifier(ccp_alpha=0.01,\n",
       "                                                               max_depth=1,\n",
       "                                                               min_samples_leaf=2)],\n",
       "                         'classifier__ccp_alpha': [0.01, 0.02, 0.04, 0.08, 0.2],\n",
       "                         'classifier__class_weight': [None, 'balanced'],\n",
       "                         'cla...\n",
       "                         'scaler': [MinMaxScaler()]},\n",
       "             refit='Accuracy', return_train_score=True,\n",
       "             scoring={'Accuracy': 'accuracy',\n",
       "                      'F1 Macro': make_scorer(f1_score, average=macro),\n",
       "                      'F1 Weighted': make_scorer(f1_score, average=weighted),\n",
       "                      'Kappa': make_scorer(cohen_kappa_score),\n",
       "                      'Precision': make_scorer(precision_score, average=micro),\n",
       "                      'Recall': make_scorer(recall_score, average=micro)},\n",
       "             verbose=2)"
      ]
     },
     "execution_count": 33,
     "metadata": {},
     "output_type": "execute_result"
    }
   ],
   "source": [
    "grid_search_dt_tuning.fit(X_train, y_train)"
   ]
  },
  {
   "cell_type": "code",
   "execution_count": 34,
   "metadata": {},
   "outputs": [
    {
     "name": "stdout",
     "output_type": "stream",
     "text": [
      "0.9710144927536232\n",
      "DecisionTreeClassifier(ccp_alpha=0.01, max_depth=1, min_samples_leaf=2)\n"
     ]
    },
    {
     "data": {
      "text/html": [
       "<div>\n",
       "<style scoped>\n",
       "    .dataframe tbody tr th:only-of-type {\n",
       "        vertical-align: middle;\n",
       "    }\n",
       "\n",
       "    .dataframe tbody tr th {\n",
       "        vertical-align: top;\n",
       "    }\n",
       "\n",
       "    .dataframe thead th {\n",
       "        text-align: right;\n",
       "    }\n",
       "</style>\n",
       "<table border=\"1\" class=\"dataframe\">\n",
       "  <thead>\n",
       "    <tr style=\"text-align: right;\">\n",
       "      <th></th>\n",
       "      <th></th>\n",
       "      <th>Mean</th>\n",
       "      <th>SD</th>\n",
       "    </tr>\n",
       "  </thead>\n",
       "  <tbody>\n",
       "    <tr>\n",
       "      <th rowspan=\"6\" valign=\"top\">Train</th>\n",
       "      <th>Accuracy</th>\n",
       "      <td>0.962408</td>\n",
       "      <td>0.022524</td>\n",
       "    </tr>\n",
       "    <tr>\n",
       "      <th>Precision</th>\n",
       "      <td>0.962408</td>\n",
       "      <td>0.022524</td>\n",
       "    </tr>\n",
       "    <tr>\n",
       "      <th>Recall</th>\n",
       "      <td>0.962408</td>\n",
       "      <td>0.022524</td>\n",
       "    </tr>\n",
       "    <tr>\n",
       "      <th>F1 Macro</th>\n",
       "      <td>0.905613</td>\n",
       "      <td>0.102471</td>\n",
       "    </tr>\n",
       "    <tr>\n",
       "      <th>F1 Weighted</th>\n",
       "      <td>0.960536</td>\n",
       "      <td>0.033922</td>\n",
       "    </tr>\n",
       "    <tr>\n",
       "      <th>Kappa</th>\n",
       "      <td>0.814787</td>\n",
       "      <td>0.190876</td>\n",
       "    </tr>\n",
       "    <tr>\n",
       "      <th rowspan=\"6\" valign=\"top\">Test</th>\n",
       "      <th>Accuracy</th>\n",
       "      <td>0.955320</td>\n",
       "      <td>0.022268</td>\n",
       "    </tr>\n",
       "    <tr>\n",
       "      <th>Precision</th>\n",
       "      <td>0.955320</td>\n",
       "      <td>0.022268</td>\n",
       "    </tr>\n",
       "    <tr>\n",
       "      <th>Recall</th>\n",
       "      <td>0.955320</td>\n",
       "      <td>0.022268</td>\n",
       "    </tr>\n",
       "    <tr>\n",
       "      <th>F1 Macro</th>\n",
       "      <td>0.889816</td>\n",
       "      <td>0.099652</td>\n",
       "    </tr>\n",
       "    <tr>\n",
       "      <th>F1 Weighted</th>\n",
       "      <td>0.953578</td>\n",
       "      <td>0.032976</td>\n",
       "    </tr>\n",
       "    <tr>\n",
       "      <th>Kappa</th>\n",
       "      <td>0.783437</td>\n",
       "      <td>0.185384</td>\n",
       "    </tr>\n",
       "  </tbody>\n",
       "</table>\n",
       "</div>"
      ],
      "text/plain": [
       "                       Mean        SD\n",
       "Train Accuracy     0.962408  0.022524\n",
       "      Precision    0.962408  0.022524\n",
       "      Recall       0.962408  0.022524\n",
       "      F1 Macro     0.905613  0.102471\n",
       "      F1 Weighted  0.960536  0.033922\n",
       "      Kappa        0.814787  0.190876\n",
       "Test  Accuracy     0.955320  0.022268\n",
       "      Precision    0.955320  0.022268\n",
       "      Recall       0.955320  0.022268\n",
       "      F1 Macro     0.889816  0.099652\n",
       "      F1 Weighted  0.953578  0.032976\n",
       "      Kappa        0.783437  0.185384"
      ]
     },
     "execution_count": 34,
     "metadata": {},
     "output_type": "execute_result"
    }
   ],
   "source": [
    "print(grid_search_dt_tuning.score(X_test, y_test))\n",
    "print(grid_search_dt_tuning.best_params_['classifier'])\n",
    "cv_results_df = pd.DataFrame(pd.DataFrame(grid_search_dt_tuning.cv_results_))\n",
    "show_cv_results(cv_results_df)"
   ]
  },
  {
   "cell_type": "code",
   "execution_count": 35,
   "metadata": {},
   "outputs": [
    {
     "data": {
      "text/plain": [
       "<sklearn.metrics._plot.confusion_matrix.ConfusionMatrixDisplay at 0x7f240c3dd8e0>"
      ]
     },
     "execution_count": 35,
     "metadata": {},
     "output_type": "execute_result"
    },
    {
     "name": "stderr",
     "output_type": "stream",
     "text": [
      "findfont: Font family ['normal'] not found. Falling back to DejaVu Sans.\n",
      "findfont: Font family ['normal'] not found. Falling back to DejaVu Sans.\n"
     ]
    },
    {
     "data": {
      "image/png": "[encoded data removed]",
      "text/plain": [
       "<Figure size 720x576 with 2 Axes>"
      ]
     },
     "metadata": {},
     "output_type": "display_data"
    }
   ],
   "source": [
    "fig, ax = plt.subplots(figsize=(10, 8))\n",
    "font = {'family' : 'normal', 'weight' : 'bold', 'size'   : 22}\n",
    "matplotlib.rc('font', **font)\n",
    "plot_confusion_matrix(grid_search_dt_tuning.best_estimator_, X_test, y_test, ax=ax, cmap=plt.cm.Blues)"
   ]
  },
  {
   "cell_type": "code",
   "execution_count": 36,
   "metadata": {},
   "outputs": [
    {
     "data": {
      "text/plain": [
       "[Text(223.2, 224.235, 'CN_ERBB2 <= 6.5\\ngini = 0.216\\nsamples = 138\\nvalue = [121, 17]'),\n",
       " Text(111.6, 74.745, 'gini = 0.032\\nsamples = 122\\nvalue = [120, 2]'),\n",
       " Text(334.79999999999995, 74.745, 'gini = 0.117\\nsamples = 16\\nvalue = [1, 15]')]"
      ]
     },
     "execution_count": 36,
     "metadata": {},
     "output_type": "execute_result"
    },
    {
     "name": "stderr",
     "output_type": "stream",
     "text": [
      "findfont: Font family ['normal'] not found. Falling back to DejaVu Sans.\n"
     ]
    },
    {
     "data": {
      "image/png": "[encoded data removed]",
      "text/plain": [
       "<Figure size 576x396 with 1 Axes>"
      ]
     },
     "metadata": {},
     "output_type": "display_data"
    }
   ],
   "source": [
    "plot_tree(grid_search_dt_tuning.best_params_['classifier'].fit(X_test, y_test), feature_names=X.columns, filled=True)"
   ]
  },
  {
   "cell_type": "markdown",
   "metadata": {},
   "source": [
    "# On full data"
   ]
  },
  {
   "cell_type": "code",
   "execution_count": 37,
   "metadata": {},
   "outputs": [
    {
     "data": {
      "text/plain": [
       "(1206, 4)"
      ]
     },
     "execution_count": 37,
     "metadata": {},
     "output_type": "execute_result"
    }
   ],
   "source": [
    "full_data_path = '../data/external/HER2status_MNM.csv'\n",
    "full_data = pd.read_csv(full_data_path, sep=';')\n",
    "\n",
    "full_data['ploidy(n)'] = full_data['ploidy(n)'].str.replace(',', '.').astype(float)\n",
    "full_data.columns = ['Sample_ID', 'HER2_status', 'CN_ERBB2', 'CN_CEP17', 'Ploidy']\n",
    "full_data = full_data.set_index('Sample_ID')\n",
    "full_data.shape"
   ]
  },
  {
   "cell_type": "code",
   "execution_count": 38,
   "metadata": {},
   "outputs": [
    {
     "data": {
      "text/html": [
       "<div>\n",
       "<style scoped>\n",
       "    .dataframe tbody tr th:only-of-type {\n",
       "        vertical-align: middle;\n",
       "    }\n",
       "\n",
       "    .dataframe tbody tr th {\n",
       "        vertical-align: top;\n",
       "    }\n",
       "\n",
       "    .dataframe thead th {\n",
       "        text-align: right;\n",
       "    }\n",
       "</style>\n",
       "<table border=\"1\" class=\"dataframe\">\n",
       "  <thead>\n",
       "    <tr style=\"text-align: right;\">\n",
       "      <th></th>\n",
       "      <th>HER2_status</th>\n",
       "      <th>CN_ERBB2</th>\n",
       "      <th>CN_CEP17</th>\n",
       "      <th>Ploidy</th>\n",
       "      <th>ERBB2_minus_ploidy</th>\n",
       "      <th>ERBB2_CEP17_ratio</th>\n",
       "    </tr>\n",
       "    <tr>\n",
       "      <th>Sample_ID</th>\n",
       "      <th></th>\n",
       "      <th></th>\n",
       "      <th></th>\n",
       "      <th></th>\n",
       "      <th></th>\n",
       "      <th></th>\n",
       "    </tr>\n",
       "  </thead>\n",
       "  <tbody>\n",
       "    <tr>\n",
       "      <th>CPCT02010003</th>\n",
       "      <td>0</td>\n",
       "      <td>2</td>\n",
       "      <td>2</td>\n",
       "      <td>2.0</td>\n",
       "      <td>0.0</td>\n",
       "      <td>1.00</td>\n",
       "    </tr>\n",
       "    <tr>\n",
       "      <th>CPCT02010260</th>\n",
       "      <td>1</td>\n",
       "      <td>29</td>\n",
       "      <td>4</td>\n",
       "      <td>3.0</td>\n",
       "      <td>26.0</td>\n",
       "      <td>7.25</td>\n",
       "    </tr>\n",
       "    <tr>\n",
       "      <th>CPCT02010267TII</th>\n",
       "      <td>1</td>\n",
       "      <td>5</td>\n",
       "      <td>2</td>\n",
       "      <td>4.0</td>\n",
       "      <td>1.0</td>\n",
       "      <td>2.50</td>\n",
       "    </tr>\n",
       "    <tr>\n",
       "      <th>CPCT02010276TII</th>\n",
       "      <td>0</td>\n",
       "      <td>2</td>\n",
       "      <td>2</td>\n",
       "      <td>2.0</td>\n",
       "      <td>0.0</td>\n",
       "      <td>1.00</td>\n",
       "    </tr>\n",
       "    <tr>\n",
       "      <th>CPCT02010281</th>\n",
       "      <td>0</td>\n",
       "      <td>5</td>\n",
       "      <td>5</td>\n",
       "      <td>4.0</td>\n",
       "      <td>1.0</td>\n",
       "      <td>1.00</td>\n",
       "    </tr>\n",
       "  </tbody>\n",
       "</table>\n",
       "</div>"
      ],
      "text/plain": [
       "                HER2_status  CN_ERBB2  CN_CEP17  Ploidy  ERBB2_minus_ploidy  \\\n",
       "Sample_ID                                                                     \n",
       "CPCT02010003              0         2         2     2.0                 0.0   \n",
       "CPCT02010260              1        29         4     3.0                26.0   \n",
       "CPCT02010267TII           1         5         2     4.0                 1.0   \n",
       "CPCT02010276TII           0         2         2     2.0                 0.0   \n",
       "CPCT02010281              0         5         5     4.0                 1.0   \n",
       "\n",
       "                 ERBB2_CEP17_ratio  \n",
       "Sample_ID                           \n",
       "CPCT02010003                  1.00  \n",
       "CPCT02010260                  7.25  \n",
       "CPCT02010267TII               2.50  \n",
       "CPCT02010276TII               1.00  \n",
       "CPCT02010281                  1.00  "
      ]
     },
     "execution_count": 38,
     "metadata": {},
     "output_type": "execute_result"
    }
   ],
   "source": [
    "full_data['ERBB2_minus_ploidy'] = full_data['CN_ERBB2'] - full_data['Ploidy']\n",
    "full_data['ERBB2_CEP17_ratio'] = full_data['CN_ERBB2'] / full_data['CN_CEP17']\n",
    "full_data['HER2_status'] = full_data['HER2_status'].apply(str)\n",
    "full_data.head()"
   ]
  },
  {
   "cell_type": "code",
   "execution_count": 39,
   "metadata": {},
   "outputs": [
    {
     "data": {
      "text/html": [
       "<div>\n",
       "<style scoped>\n",
       "    .dataframe tbody tr th:only-of-type {\n",
       "        vertical-align: middle;\n",
       "    }\n",
       "\n",
       "    .dataframe tbody tr th {\n",
       "        vertical-align: top;\n",
       "    }\n",
       "\n",
       "    .dataframe thead th {\n",
       "        text-align: right;\n",
       "    }\n",
       "</style>\n",
       "<table border=\"1\" class=\"dataframe\">\n",
       "  <thead>\n",
       "    <tr style=\"text-align: right;\">\n",
       "      <th></th>\n",
       "      <th>HER2_status</th>\n",
       "      <th>CN_ERBB2</th>\n",
       "      <th>CN_CEP17</th>\n",
       "      <th>Ploidy</th>\n",
       "      <th>ERBB2_minus_ploidy</th>\n",
       "      <th>ERBB2_CEP17_ratio</th>\n",
       "    </tr>\n",
       "    <tr>\n",
       "      <th>Sample_ID</th>\n",
       "      <th></th>\n",
       "      <th></th>\n",
       "      <th></th>\n",
       "      <th></th>\n",
       "      <th></th>\n",
       "      <th></th>\n",
       "    </tr>\n",
       "  </thead>\n",
       "  <tbody>\n",
       "    <tr>\n",
       "      <th>CPCT02040013</th>\n",
       "      <td>0</td>\n",
       "      <td>1</td>\n",
       "      <td>0</td>\n",
       "      <td>2.00</td>\n",
       "      <td>-1.00</td>\n",
       "      <td>inf</td>\n",
       "    </tr>\n",
       "    <tr>\n",
       "      <th>CPCT02080006</th>\n",
       "      <td>0</td>\n",
       "      <td>2</td>\n",
       "      <td>0</td>\n",
       "      <td>2.00</td>\n",
       "      <td>0.00</td>\n",
       "      <td>inf</td>\n",
       "    </tr>\n",
       "    <tr>\n",
       "      <th>CPCT02300018</th>\n",
       "      <td>0</td>\n",
       "      <td>1</td>\n",
       "      <td>0</td>\n",
       "      <td>2.00</td>\n",
       "      <td>-1.00</td>\n",
       "      <td>inf</td>\n",
       "    </tr>\n",
       "    <tr>\n",
       "      <th>DO218168</th>\n",
       "      <td>0</td>\n",
       "      <td>2</td>\n",
       "      <td>0</td>\n",
       "      <td>2.00</td>\n",
       "      <td>0.00</td>\n",
       "      <td>inf</td>\n",
       "    </tr>\n",
       "    <tr>\n",
       "      <th>PD13166a</th>\n",
       "      <td>1</td>\n",
       "      <td>19</td>\n",
       "      <td>0</td>\n",
       "      <td>2.00</td>\n",
       "      <td>17.00</td>\n",
       "      <td>inf</td>\n",
       "    </tr>\n",
       "    <tr>\n",
       "      <th>PD14471a_2</th>\n",
       "      <td>0</td>\n",
       "      <td>2</td>\n",
       "      <td>0</td>\n",
       "      <td>3.22</td>\n",
       "      <td>-1.22</td>\n",
       "      <td>inf</td>\n",
       "    </tr>\n",
       "    <tr>\n",
       "      <th>PD18050a</th>\n",
       "      <td>1</td>\n",
       "      <td>23</td>\n",
       "      <td>0</td>\n",
       "      <td>3.40</td>\n",
       "      <td>19.60</td>\n",
       "      <td>inf</td>\n",
       "    </tr>\n",
       "  </tbody>\n",
       "</table>\n",
       "</div>"
      ],
      "text/plain": [
       "             HER2_status  CN_ERBB2  CN_CEP17  Ploidy  ERBB2_minus_ploidy  \\\n",
       "Sample_ID                                                                  \n",
       "CPCT02040013           0         1         0    2.00               -1.00   \n",
       "CPCT02080006           0         2         0    2.00                0.00   \n",
       "CPCT02300018           0         1         0    2.00               -1.00   \n",
       "DO218168               0         2         0    2.00                0.00   \n",
       "PD13166a               1        19         0    2.00               17.00   \n",
       "PD14471a_2             0         2         0    3.22               -1.22   \n",
       "PD18050a               1        23         0    3.40               19.60   \n",
       "\n",
       "              ERBB2_CEP17_ratio  \n",
       "Sample_ID                        \n",
       "CPCT02040013                inf  \n",
       "CPCT02080006                inf  \n",
       "CPCT02300018                inf  \n",
       "DO218168                    inf  \n",
       "PD13166a                    inf  \n",
       "PD14471a_2                  inf  \n",
       "PD18050a                    inf  "
      ]
     },
     "execution_count": 39,
     "metadata": {},
     "output_type": "execute_result"
    }
   ],
   "source": [
    "full_data[full_data['ERBB2_CEP17_ratio'] == np.inf]"
   ]
  },
  {
   "cell_type": "code",
   "execution_count": 40,
   "metadata": {},
   "outputs": [],
   "source": [
    "full_data = full_data[full_data['ERBB2_CEP17_ratio'] != np.inf]"
   ]
  },
  {
   "cell_type": "code",
   "execution_count": 41,
   "metadata": {},
   "outputs": [
    {
     "data": {
      "text/html": [
       "<div>\n",
       "<style scoped>\n",
       "    .dataframe tbody tr th:only-of-type {\n",
       "        vertical-align: middle;\n",
       "    }\n",
       "\n",
       "    .dataframe tbody tr th {\n",
       "        vertical-align: top;\n",
       "    }\n",
       "\n",
       "    .dataframe thead th {\n",
       "        text-align: right;\n",
       "    }\n",
       "</style>\n",
       "<table border=\"1\" class=\"dataframe\">\n",
       "  <thead>\n",
       "    <tr style=\"text-align: right;\">\n",
       "      <th></th>\n",
       "      <th>HER2_status</th>\n",
       "      <th>CN_ERBB2</th>\n",
       "      <th>CN_CEP17</th>\n",
       "      <th>Ploidy</th>\n",
       "      <th>ERBB2_minus_ploidy</th>\n",
       "      <th>ERBB2_CEP17_ratio</th>\n",
       "    </tr>\n",
       "    <tr>\n",
       "      <th>Sample_ID</th>\n",
       "      <th></th>\n",
       "      <th></th>\n",
       "      <th></th>\n",
       "      <th></th>\n",
       "      <th></th>\n",
       "      <th></th>\n",
       "    </tr>\n",
       "  </thead>\n",
       "  <tbody>\n",
       "    <tr>\n",
       "      <th>CPCT02010003</th>\n",
       "      <td>0</td>\n",
       "      <td>2</td>\n",
       "      <td>2</td>\n",
       "      <td>2.00</td>\n",
       "      <td>0.00</td>\n",
       "      <td>1.00</td>\n",
       "    </tr>\n",
       "    <tr>\n",
       "      <th>CPCT02010260</th>\n",
       "      <td>1</td>\n",
       "      <td>29</td>\n",
       "      <td>4</td>\n",
       "      <td>3.00</td>\n",
       "      <td>26.00</td>\n",
       "      <td>7.25</td>\n",
       "    </tr>\n",
       "    <tr>\n",
       "      <th>CPCT02010267TII</th>\n",
       "      <td>1</td>\n",
       "      <td>5</td>\n",
       "      <td>2</td>\n",
       "      <td>4.00</td>\n",
       "      <td>1.00</td>\n",
       "      <td>2.50</td>\n",
       "    </tr>\n",
       "    <tr>\n",
       "      <th>CPCT02010276TII</th>\n",
       "      <td>0</td>\n",
       "      <td>2</td>\n",
       "      <td>2</td>\n",
       "      <td>2.00</td>\n",
       "      <td>0.00</td>\n",
       "      <td>1.00</td>\n",
       "    </tr>\n",
       "    <tr>\n",
       "      <th>CPCT02010281</th>\n",
       "      <td>0</td>\n",
       "      <td>5</td>\n",
       "      <td>5</td>\n",
       "      <td>4.00</td>\n",
       "      <td>1.00</td>\n",
       "      <td>1.00</td>\n",
       "    </tr>\n",
       "    <tr>\n",
       "      <th>...</th>\n",
       "      <td>...</td>\n",
       "      <td>...</td>\n",
       "      <td>...</td>\n",
       "      <td>...</td>\n",
       "      <td>...</td>\n",
       "      <td>...</td>\n",
       "    </tr>\n",
       "    <tr>\n",
       "      <th>PD9842a</th>\n",
       "      <td>0</td>\n",
       "      <td>2</td>\n",
       "      <td>2</td>\n",
       "      <td>2.01</td>\n",
       "      <td>-0.01</td>\n",
       "      <td>1.00</td>\n",
       "    </tr>\n",
       "    <tr>\n",
       "      <th>PD9843a</th>\n",
       "      <td>0</td>\n",
       "      <td>3</td>\n",
       "      <td>3</td>\n",
       "      <td>3.65</td>\n",
       "      <td>-0.65</td>\n",
       "      <td>1.00</td>\n",
       "    </tr>\n",
       "    <tr>\n",
       "      <th>PD9844a</th>\n",
       "      <td>0</td>\n",
       "      <td>2</td>\n",
       "      <td>2</td>\n",
       "      <td>2.00</td>\n",
       "      <td>0.00</td>\n",
       "      <td>1.00</td>\n",
       "    </tr>\n",
       "    <tr>\n",
       "      <th>PD9845a</th>\n",
       "      <td>0</td>\n",
       "      <td>2</td>\n",
       "      <td>2</td>\n",
       "      <td>2.08</td>\n",
       "      <td>-0.08</td>\n",
       "      <td>1.00</td>\n",
       "    </tr>\n",
       "    <tr>\n",
       "      <th>PD9847a</th>\n",
       "      <td>0</td>\n",
       "      <td>2</td>\n",
       "      <td>2</td>\n",
       "      <td>1.98</td>\n",
       "      <td>0.02</td>\n",
       "      <td>1.00</td>\n",
       "    </tr>\n",
       "  </tbody>\n",
       "</table>\n",
       "<p>1199 rows × 6 columns</p>\n",
       "</div>"
      ],
      "text/plain": [
       "                HER2_status  CN_ERBB2  CN_CEP17  Ploidy  ERBB2_minus_ploidy  \\\n",
       "Sample_ID                                                                     \n",
       "CPCT02010003              0         2         2    2.00                0.00   \n",
       "CPCT02010260              1        29         4    3.00               26.00   \n",
       "CPCT02010267TII           1         5         2    4.00                1.00   \n",
       "CPCT02010276TII           0         2         2    2.00                0.00   \n",
       "CPCT02010281              0         5         5    4.00                1.00   \n",
       "...                     ...       ...       ...     ...                 ...   \n",
       "PD9842a                   0         2         2    2.01               -0.01   \n",
       "PD9843a                   0         3         3    3.65               -0.65   \n",
       "PD9844a                   0         2         2    2.00                0.00   \n",
       "PD9845a                   0         2         2    2.08               -0.08   \n",
       "PD9847a                   0         2         2    1.98                0.02   \n",
       "\n",
       "                 ERBB2_CEP17_ratio  \n",
       "Sample_ID                           \n",
       "CPCT02010003                  1.00  \n",
       "CPCT02010260                  7.25  \n",
       "CPCT02010267TII               2.50  \n",
       "CPCT02010276TII               1.00  \n",
       "CPCT02010281                  1.00  \n",
       "...                            ...  \n",
       "PD9842a                       1.00  \n",
       "PD9843a                       1.00  \n",
       "PD9844a                       1.00  \n",
       "PD9845a                       1.00  \n",
       "PD9847a                       1.00  \n",
       "\n",
       "[1199 rows x 6 columns]"
      ]
     },
     "execution_count": 41,
     "metadata": {},
     "output_type": "execute_result"
    }
   ],
   "source": [
    "full_data"
   ]
  },
  {
   "cell_type": "code",
   "execution_count": 42,
   "metadata": {},
   "outputs": [
    {
     "name": "stderr",
     "output_type": "stream",
     "text": [
      "/home/rstepien/miniconda3/envs/machine_learning/lib/python3.8/site-packages/plotnine/stats/stat_bin.py:93: PlotnineWarning: 'stat_bin()' using 'bins = 35'. Pick better value with 'binwidth'.\n"
     ]
    },
    {
     "data": {
      "image/png": "[encoded data removed]",
      "text/plain": [
       "<Figure size 640x480 with 1 Axes>"
      ]
     },
     "metadata": {},
     "output_type": "display_data"
    },
    {
     "data": {
      "text/plain": [
       "<ggplot: (8737101807174)>"
      ]
     },
     "execution_count": 42,
     "metadata": {},
     "output_type": "execute_result"
    }
   ],
   "source": [
    "(ggplot(full_data, aes(x='HER2_status', fill='HER2_status')) + geom_histogram())"
   ]
  },
  {
   "cell_type": "code",
   "execution_count": 43,
   "metadata": {},
   "outputs": [],
   "source": [
    "X = full_data.drop(['HER2_status'], axis=1)\n",
    "y = full_data[['HER2_status']]\n",
    "X_train, X_test, y_train, y_test = train_test_split(X, y, stratify=y, random_state=SEED)"
   ]
  },
  {
   "cell_type": "code",
   "execution_count": 44,
   "metadata": {},
   "outputs": [
    {
     "name": "stdout",
     "output_type": "stream",
     "text": [
      "Fitting 50 folds for each of 960 candidates, totalling 48000 fits\n"
     ]
    },
    {
     "name": "stderr",
     "output_type": "stream",
     "text": [
      "[Parallel(n_jobs=-1)]: Using backend LokyBackend with 32 concurrent workers.\n",
      "[Parallel(n_jobs=-1)]: Done 132 tasks      | elapsed:    0.6s\n",
      "[Parallel(n_jobs=-1)]: Done 538 tasks      | elapsed:    1.6s\n",
      "[Parallel(n_jobs=-1)]: Done 1104 tasks      | elapsed:    3.1s\n",
      "[Parallel(n_jobs=-1)]: Done 1834 tasks      | elapsed:    5.0s\n",
      "[Parallel(n_jobs=-1)]: Done 2724 tasks      | elapsed:    7.3s\n",
      "[Parallel(n_jobs=-1)]: Done 3778 tasks      | elapsed:   10.1s\n",
      "[Parallel(n_jobs=-1)]: Done 4992 tasks      | elapsed:   13.3s\n",
      "[Parallel(n_jobs=-1)]: Done 6370 tasks      | elapsed:   16.9s\n",
      "[Parallel(n_jobs=-1)]: Done 7908 tasks      | elapsed:   21.0s\n",
      "[Parallel(n_jobs=-1)]: Done 9610 tasks      | elapsed:   25.6s\n",
      "[Parallel(n_jobs=-1)]: Done 11472 tasks      | elapsed:   30.7s\n",
      "[Parallel(n_jobs=-1)]: Done 13498 tasks      | elapsed:   36.0s\n",
      "[Parallel(n_jobs=-1)]: Done 15684 tasks      | elapsed:   41.8s\n",
      "[Parallel(n_jobs=-1)]: Done 18034 tasks      | elapsed:   48.3s\n",
      "[Parallel(n_jobs=-1)]: Done 20544 tasks      | elapsed:   54.9s\n",
      "[Parallel(n_jobs=-1)]: Done 23218 tasks      | elapsed:  1.0min\n",
      "[Parallel(n_jobs=-1)]: Done 26052 tasks      | elapsed:  1.2min\n",
      "[Parallel(n_jobs=-1)]: Done 29050 tasks      | elapsed:  1.3min\n",
      "[Parallel(n_jobs=-1)]: Done 32208 tasks      | elapsed:  1.4min\n",
      "[Parallel(n_jobs=-1)]: Done 35530 tasks      | elapsed:  1.6min\n",
      "[Parallel(n_jobs=-1)]: Done 39012 tasks      | elapsed:  1.7min\n",
      "[Parallel(n_jobs=-1)]: Done 42658 tasks      | elapsed:  1.9min\n",
      "[Parallel(n_jobs=-1)]: Done 46464 tasks      | elapsed:  2.1min\n",
      "[Parallel(n_jobs=-1)]: Done 48000 out of 48000 | elapsed:  2.1min finished\n"
     ]
    },
    {
     "data": {
      "text/plain": [
       "GridSearchCV(cv=RepeatedStratifiedKFold(n_repeats=10, n_splits=5, random_state=0),\n",
       "             estimator=Pipeline(steps=[('scaler', None), ('classifier', None)]),\n",
       "             n_jobs=-1,\n",
       "             param_grid={'classifier': [DecisionTreeClassifier(ccp_alpha=0.01,\n",
       "                                                               max_depth=1,\n",
       "                                                               min_samples_leaf=2)],\n",
       "                         'classifier__ccp_alpha': [0.01, 0.02, 0.04, 0.08, 0.2],\n",
       "                         'classifier__class_weight': [None, 'balanced'],\n",
       "                         'cla...\n",
       "                         'scaler': [MinMaxScaler()]},\n",
       "             refit='Accuracy', return_train_score=True,\n",
       "             scoring={'Accuracy': 'accuracy',\n",
       "                      'F1 Macro': make_scorer(f1_score, average=macro),\n",
       "                      'F1 Weighted': make_scorer(f1_score, average=weighted),\n",
       "                      'Kappa': make_scorer(cohen_kappa_score),\n",
       "                      'Precision': make_scorer(precision_score, average=micro),\n",
       "                      'Recall': make_scorer(recall_score, average=micro)},\n",
       "             verbose=2)"
      ]
     },
     "execution_count": 44,
     "metadata": {},
     "output_type": "execute_result"
    }
   ],
   "source": [
    "pipe = Pipeline([\n",
    "    ('scaler', None),\n",
    "    ('classifier', None)\n",
    "])\n",
    "\n",
    "scoring = {\n",
    "    'Accuracy': 'accuracy',\n",
    "    'Precision': make_scorer(precision_score, average='micro'),\n",
    "    'Recall': make_scorer(recall_score, average='micro'),\n",
    "    'F1 Weighted': make_scorer(f1_score, average='weighted'),\n",
    "    'F1 Macro': make_scorer(f1_score, average='macro'),\n",
    "    'Kappa': make_scorer(cohen_kappa_score)\n",
    "}\n",
    "\n",
    "hyperparameters_space = {\n",
    "    'classifier': [DecisionTreeClassifier()],\n",
    "    'scaler': [MinMaxScaler()],\n",
    "    'classifier__ccp_alpha': [0.01, 0.02, 0.04, 0.08, 0.2],\n",
    "    'classifier__max_depth': [1, 2, 4, 8],\n",
    "    'classifier__min_samples_split': [2, 4, 8],\n",
    "    'classifier__min_samples_leaf': [1, 2, 4, 8],\n",
    "    'classifier__criterion': ['gini', 'entropy'],\n",
    "    'classifier__class_weight': [None, 'balanced']\n",
    "}\n",
    "\n",
    "grid_search_dt_tuning = GridSearchCV(\n",
    "    estimator=pipe,\n",
    "    scoring=scoring,\n",
    "    param_grid=hyperparameters_space,\n",
    "    cv=CV_SCHEME,\n",
    "    refit='Accuracy',\n",
    "    return_train_score=True,\n",
    "    n_jobs=-1,\n",
    "    verbose=2\n",
    ")\n",
    "\n",
    "grid_search_dt_tuning.fit(X_train, y_train)"
   ]
  },
  {
   "cell_type": "code",
   "execution_count": 45,
   "metadata": {},
   "outputs": [
    {
     "name": "stdout",
     "output_type": "stream",
     "text": [
      "0.98\n",
      "DecisionTreeClassifier(ccp_alpha=0.01, max_depth=1, min_samples_leaf=2)\n"
     ]
    },
    {
     "data": {
      "text/html": [
       "<div>\n",
       "<style scoped>\n",
       "    .dataframe tbody tr th:only-of-type {\n",
       "        vertical-align: middle;\n",
       "    }\n",
       "\n",
       "    .dataframe tbody tr th {\n",
       "        vertical-align: top;\n",
       "    }\n",
       "\n",
       "    .dataframe thead th {\n",
       "        text-align: right;\n",
       "    }\n",
       "</style>\n",
       "<table border=\"1\" class=\"dataframe\">\n",
       "  <thead>\n",
       "    <tr style=\"text-align: right;\">\n",
       "      <th></th>\n",
       "      <th></th>\n",
       "      <th>Mean</th>\n",
       "      <th>SD</th>\n",
       "    </tr>\n",
       "  </thead>\n",
       "  <tbody>\n",
       "    <tr>\n",
       "      <th rowspan=\"6\" valign=\"top\">Train</th>\n",
       "      <th>Accuracy</th>\n",
       "      <td>0.972341</td>\n",
       "      <td>0.017584</td>\n",
       "    </tr>\n",
       "    <tr>\n",
       "      <th>Precision</th>\n",
       "      <td>0.972341</td>\n",
       "      <td>0.017584</td>\n",
       "    </tr>\n",
       "    <tr>\n",
       "      <th>Recall</th>\n",
       "      <td>0.972341</td>\n",
       "      <td>0.017584</td>\n",
       "    </tr>\n",
       "    <tr>\n",
       "      <th>F1 Macro</th>\n",
       "      <td>0.912551</td>\n",
       "      <td>0.101345</td>\n",
       "    </tr>\n",
       "    <tr>\n",
       "      <th>F1 Weighted</th>\n",
       "      <td>0.970119</td>\n",
       "      <td>0.027716</td>\n",
       "    </tr>\n",
       "    <tr>\n",
       "      <th>Kappa</th>\n",
       "      <td>0.827815</td>\n",
       "      <td>0.191134</td>\n",
       "    </tr>\n",
       "    <tr>\n",
       "      <th rowspan=\"6\" valign=\"top\">Test</th>\n",
       "      <th>Accuracy</th>\n",
       "      <td>0.970313</td>\n",
       "      <td>0.017685</td>\n",
       "    </tr>\n",
       "    <tr>\n",
       "      <th>Precision</th>\n",
       "      <td>0.970313</td>\n",
       "      <td>0.017685</td>\n",
       "    </tr>\n",
       "    <tr>\n",
       "      <th>Recall</th>\n",
       "      <td>0.970313</td>\n",
       "      <td>0.017685</td>\n",
       "    </tr>\n",
       "    <tr>\n",
       "      <th>F1 Macro</th>\n",
       "      <td>0.906985</td>\n",
       "      <td>0.100497</td>\n",
       "    </tr>\n",
       "    <tr>\n",
       "      <th>F1 Weighted</th>\n",
       "      <td>0.968085</td>\n",
       "      <td>0.027528</td>\n",
       "    </tr>\n",
       "    <tr>\n",
       "      <th>Kappa</th>\n",
       "      <td>0.816747</td>\n",
       "      <td>0.189492</td>\n",
       "    </tr>\n",
       "  </tbody>\n",
       "</table>\n",
       "</div>"
      ],
      "text/plain": [
       "                       Mean        SD\n",
       "Train Accuracy     0.972341  0.017584\n",
       "      Precision    0.972341  0.017584\n",
       "      Recall       0.972341  0.017584\n",
       "      F1 Macro     0.912551  0.101345\n",
       "      F1 Weighted  0.970119  0.027716\n",
       "      Kappa        0.827815  0.191134\n",
       "Test  Accuracy     0.970313  0.017685\n",
       "      Precision    0.970313  0.017685\n",
       "      Recall       0.970313  0.017685\n",
       "      F1 Macro     0.906985  0.100497\n",
       "      F1 Weighted  0.968085  0.027528\n",
       "      Kappa        0.816747  0.189492"
      ]
     },
     "execution_count": 45,
     "metadata": {},
     "output_type": "execute_result"
    }
   ],
   "source": [
    "print(grid_search_dt_tuning.score(X_test, y_test))\n",
    "print(grid_search_dt_tuning.best_params_['classifier'])\n",
    "cv_results_df = pd.DataFrame(pd.DataFrame(grid_search_dt_tuning.cv_results_))\n",
    "show_cv_results(cv_results_df)"
   ]
  },
  {
   "cell_type": "code",
   "execution_count": 46,
   "metadata": {},
   "outputs": [
    {
     "data": {
      "text/plain": [
       "<sklearn.metrics._plot.confusion_matrix.ConfusionMatrixDisplay at 0x7f231c3422b0>"
      ]
     },
     "execution_count": 46,
     "metadata": {},
     "output_type": "execute_result"
    },
    {
     "name": "stderr",
     "output_type": "stream",
     "text": [
      "findfont: Font family ['normal'] not found. Falling back to DejaVu Sans.\n"
     ]
    },
    {
     "data": {
      "image/png": "[encoded data removed]",
      "text/plain": [
       "<Figure size 720x576 with 2 Axes>"
      ]
     },
     "metadata": {},
     "output_type": "display_data"
    }
   ],
   "source": [
    "fig, ax = plt.subplots(figsize=(10, 8))\n",
    "font = {'weight' : 'bold', 'size'   : 22}\n",
    "matplotlib.rc('font', **font)\n",
    "plot_confusion_matrix(grid_search_dt_tuning.best_estimator_, X_test, y_test, ax=ax, cmap=plt.cm.Blues)"
   ]
  },
  {
   "cell_type": "code",
   "execution_count": 47,
   "metadata": {},
   "outputs": [
    {
     "data": {
      "text/plain": [
       "[Text(223.2, 224.235, 'ERBB2_minus_ploidy <= 5.565\\ngini = 0.182\\nsamples = 899\\nvalue = [808, 91]'),\n",
       " Text(111.6, 74.745, 'gini = 0.029\\nsamples = 815\\nvalue = [803, 12]'),\n",
       " Text(334.79999999999995, 74.745, 'gini = 0.112\\nsamples = 84\\nvalue = [5, 79]')]"
      ]
     },
     "execution_count": 47,
     "metadata": {},
     "output_type": "execute_result"
    },
    {
     "name": "stderr",
     "output_type": "stream",
     "text": [
      "findfont: Font family ['normal'] not found. Falling back to DejaVu Sans.\n"
     ]
    },
    {
     "data": {
      "image/png": "[encoded data removed]",
      "text/plain": [
       "<Figure size 576x396 with 1 Axes>"
      ]
     },
     "metadata": {},
     "output_type": "display_data"
    }
   ],
   "source": [
    "plot_tree(grid_search_dt_tuning.best_params_['classifier'].fit(X_train, y_train), feature_names=X.columns, filled=True)"
   ]
  }
 ],
 "metadata": {
  "kernelspec": {
   "display_name": "machine_learning",
   "language": "python",
   "name": "machine_learning"
  },
  "language_info": {
   "codemirror_mode": {
    "name": "ipython",
    "version": 3
   },
   "file_extension": ".py",
   "mimetype": "text/x-python",
   "name": "python",
   "nbconvert_exporter": "python",
   "pygments_lexer": "ipython3",
   "version": "3.8.5"
  }
 },
 "nbformat": 4,
 "nbformat_minor": 4
}
